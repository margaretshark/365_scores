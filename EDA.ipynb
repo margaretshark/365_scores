{
 "cells": [
  {
   "cell_type": "code",
   "execution_count": 149,
   "id": "38eab84d",
   "metadata": {},
   "outputs": [],
   "source": [
    "import pandas as pd\n",
    "import numpy as np\n",
    "%matplotlib inline\n",
    "import matplotlib.pyplot as plt\n",
    "import seaborn as sns\n",
    "from sklearn.tree import DecisionTreeClassifier\n",
    "from sklearn.linear_model import LogisticRegression\n",
    "from sklearn.ensemble import RandomForestClassifier,GradientBoostingClassifier\n",
    "from sklearn.metrics import confusion_matrix,classification_report\n",
    "from sklearn.model_selection import ShuffleSplit,GridSearchCV,train_test_split,cross_val_score\n",
    "from sklearn.neighbors import KNeighborsClassifier\n",
    "# from imblearn.over_sampling import SMOTE\n",
    "# from tensorflow import keras\n",
    "from sklearn.preprocessing import MinMaxScaler\n",
    "from sklearn.cluster import KMeans\n",
    "import matplotlib.pyplot as plt\n",
    "from sklearn import metrics"
   ]
  },
  {
   "cell_type": "markdown",
   "id": "14bfae50",
   "metadata": {},
   "source": [
    "### EDA"
   ]
  },
  {
   "cell_type": "code",
   "execution_count": 150,
   "id": "d0773527",
   "metadata": {},
   "outputs": [],
   "source": [
    "data = pd.read_csv('DS_dim_users_new.csv', low_memory=False)"
   ]
  },
  {
   "cell_type": "code",
   "execution_count": 151,
   "id": "76511d33",
   "metadata": {},
   "outputs": [
    {
     "name": "stdout",
     "output_type": "stream",
     "text": [
      "<class 'pandas.core.frame.DataFrame'>\n",
      "RangeIndex: 556880 entries, 0 to 556879\n",
      "Data columns (total 17 columns):\n",
      " #   Column               Non-Null Count   Dtype  \n",
      "---  ------               --------------   -----  \n",
      " 0   device_id            556880 non-null  object \n",
      " 1   wizard_teams         330004 non-null  float64\n",
      " 2   wizard_leagues       330059 non-null  float64\n",
      " 3   install_time         556880 non-null  object \n",
      " 4   last_touch           556880 non-null  object \n",
      " 5   lang_id              556771 non-null  float64\n",
      " 6   country_id           556822 non-null  float64\n",
      " 7   media_source         43564 non-null   object \n",
      " 8   device_type          556880 non-null  object \n",
      " 9   os_version           556497 non-null  object \n",
      " 10  media_source1        43564 non-null   object \n",
      " 11  campaign_name        29137 non-null   object \n",
      " 12  is_finished_wizard   556871 non-null  object \n",
      " 13  device_model         551299 non-null  object \n",
      " 14  is_google_connect    556880 non-null  bool   \n",
      " 15  is_facebook_connect  556880 non-null  bool   \n",
      " 16  campaign_related     0 non-null       float64\n",
      "dtypes: bool(2), float64(5), object(10)\n",
      "memory usage: 64.8+ MB\n"
     ]
    }
   ],
   "source": [
    "data.info()"
   ]
  },
  {
   "cell_type": "markdown",
   "id": "a1c33f44",
   "metadata": {},
   "source": [
    "- ```From the first observation, I presume that the dataset contains several numerical, categorical, boolean and datetime columns providing various information about the user```"
   ]
  },
  {
   "cell_type": "code",
   "execution_count": 152,
   "id": "7cece859",
   "metadata": {},
   "outputs": [],
   "source": [
    "data_additional = pd.read_csv('DS_dim_user_selections_new.csv')"
   ]
  },
  {
   "cell_type": "code",
   "execution_count": 328,
   "id": "c9c78334",
   "metadata": {},
   "outputs": [],
   "source": [
    "cols_for_pie = ['platform', 'user_country', 'user_language', 'entity_name',\n",
    "       'entity_country', 'entity_type', 'sport_type', 'region_name',\n",
    "       'app_version', 'idx']\n",
    "\n",
    "# 'platform', 'user_country', 'user_language', 'favorite', 'region_name', 'entity_id', 'app_version', 'idx'\n",
    "\n",
    "data_additional[cols_for_pie] = data_additional[cols_for_pie].astype('category')\n",
    "\n",
    "data_additional['updatedate'] = pd.to_datetime(data_additional['updatedate'], format='%Y-%m-%d %H:%M:%S.%f')\n",
    "               \n",
    "data_additional['last_touch'] = data_additional['last_touch'].\\\n",
    "            apply(lambda x: pd.to_datetime(x, errors = 'coerce', format = '%Y-%m-%d'))"
   ]
  },
  {
   "cell_type": "code",
   "execution_count": 329,
   "id": "97d10670",
   "metadata": {},
   "outputs": [
    {
     "name": "stdout",
     "output_type": "stream",
     "text": [
      "<class 'pandas.core.frame.DataFrame'>\n",
      "RangeIndex: 913874 entries, 0 to 913873\n",
      "Data columns (total 17 columns):\n",
      " #   Column          Non-Null Count   Dtype         \n",
      "---  ------          --------------   -----         \n",
      " 0   uid             913874 non-null  int64         \n",
      " 1   device_id       913874 non-null  object        \n",
      " 2   platform        913874 non-null  category      \n",
      " 3   user_country    903313 non-null  category      \n",
      " 4   user_language   912969 non-null  category      \n",
      " 5   entity_name     871663 non-null  category      \n",
      " 6   entity_country  871363 non-null  category      \n",
      " 7   entity_type     876513 non-null  category      \n",
      " 8   sport_type      859858 non-null  category      \n",
      " 9   local_entity    913874 non-null  int64         \n",
      " 10  favorite        913874 non-null  int64         \n",
      " 11  region_name     903313 non-null  category      \n",
      " 12  entity_id       913874 non-null  int64         \n",
      " 13  app_version     913852 non-null  category      \n",
      " 14  last_touch      913874 non-null  datetime64[ns]\n",
      " 15  updatedate      913874 non-null  datetime64[ns]\n",
      " 16  idx             913874 non-null  category      \n",
      "dtypes: category(10), datetime64[ns](2), int64(4), object(1)\n",
      "memory usage: 61.7+ MB\n"
     ]
    }
   ],
   "source": [
    "data_additional.info()"
   ]
  },
  {
   "cell_type": "markdown",
   "id": "31465dff",
   "metadata": {},
   "source": [
    "- ```From the first observation, I presume that the dataset contains several numerical, categorical and datetime columns providing various information about the user```\n",
    "\n",
    "- ``` entity_name, entity_country, entity_type, local_entity, sport_type \\ - these variables characterize the user target interest and it is codded as entity_id```"
   ]
  },
  {
   "cell_type": "code",
   "execution_count": 155,
   "id": "5fc65814",
   "metadata": {},
   "outputs": [],
   "source": [
    "check = pd.DataFrame()\n",
    "check['entity_code'] = pd.Series(data_additional['entity_country'].astype(str).values + '_' + \\\n",
    "        data_additional['entity_type'].astype(str).values + '_' +  data_additional['entity_name'].\\\n",
    "        astype(str).values + '_' + data_additional['local_entity'].\\\n",
    "              astype(str).values + '_' + data_additional['sport_type'].astype(str).values).\\\n",
    "                astype('category').cat.codes\n",
    "\n",
    "check['entity'] = pd.Series(data_additional['entity_country'].astype(str).values + '_' + \\\n",
    "        data_additional['entity_type'].astype(str).values + '_' +  data_additional['entity_name'].\\\n",
    "        astype(str).values + '_' + data_additional['local_entity'].\\\n",
    "              astype(str).values + '_' + data_additional['sport_type'].astype(str).values)\n",
    "check['entity_id'] = data_additional['entity_id'].values"
   ]
  },
  {
   "cell_type": "code",
   "execution_count": 156,
   "id": "36358f35",
   "metadata": {},
   "outputs": [
    {
     "data": {
      "text/plain": [
       "(11710    55834\n",
       " 15369    47684\n",
       " 25319    37361\n",
       " 10240    35162\n",
       " 10917    26818\n",
       "          ...  \n",
       " 2351         1\n",
       " 979          1\n",
       " 12099        1\n",
       " 24974        1\n",
       " 1634         1\n",
       " Name: entity_code, Length: 25322, dtype: int64,\n",
       " 25         55839\n",
       " 17         47684\n",
       " 1          35866\n",
       " 573        35164\n",
       " 35         26834\n",
       "            ...  \n",
       " 3644125        1\n",
       " 62353          1\n",
       " 45670          1\n",
       " 61721          1\n",
       " 3515473        1\n",
       " Name: entity_id, Length: 27122, dtype: int64)"
      ]
     },
     "execution_count": 156,
     "metadata": {},
     "output_type": "execute_result"
    }
   ],
   "source": [
    "check['entity_code'].value_counts(),check['entity_id'].value_counts()"
   ]
  },
  {
   "cell_type": "code",
   "execution_count": 157,
   "id": "b021946e",
   "metadata": {},
   "outputs": [
    {
     "data": {
      "text/html": [
       "<div>\n",
       "<style scoped>\n",
       "    .dataframe tbody tr th:only-of-type {\n",
       "        vertical-align: middle;\n",
       "    }\n",
       "\n",
       "    .dataframe tbody tr th {\n",
       "        vertical-align: top;\n",
       "    }\n",
       "\n",
       "    .dataframe thead th {\n",
       "        text-align: right;\n",
       "    }\n",
       "</style>\n",
       "<table border=\"1\" class=\"dataframe\">\n",
       "  <thead>\n",
       "    <tr style=\"text-align: right;\">\n",
       "      <th></th>\n",
       "      <th>entity_code</th>\n",
       "      <th>entity_id</th>\n",
       "    </tr>\n",
       "  </thead>\n",
       "  <tbody>\n",
       "    <tr>\n",
       "      <th>count</th>\n",
       "      <td>55834.0</td>\n",
       "      <td>55834.0</td>\n",
       "    </tr>\n",
       "    <tr>\n",
       "      <th>mean</th>\n",
       "      <td>11710.0</td>\n",
       "      <td>25.0</td>\n",
       "    </tr>\n",
       "    <tr>\n",
       "      <th>std</th>\n",
       "      <td>0.0</td>\n",
       "      <td>0.0</td>\n",
       "    </tr>\n",
       "    <tr>\n",
       "      <th>min</th>\n",
       "      <td>11710.0</td>\n",
       "      <td>25.0</td>\n",
       "    </tr>\n",
       "    <tr>\n",
       "      <th>25%</th>\n",
       "      <td>11710.0</td>\n",
       "      <td>25.0</td>\n",
       "    </tr>\n",
       "    <tr>\n",
       "      <th>50%</th>\n",
       "      <td>11710.0</td>\n",
       "      <td>25.0</td>\n",
       "    </tr>\n",
       "    <tr>\n",
       "      <th>75%</th>\n",
       "      <td>11710.0</td>\n",
       "      <td>25.0</td>\n",
       "    </tr>\n",
       "    <tr>\n",
       "      <th>max</th>\n",
       "      <td>11710.0</td>\n",
       "      <td>25.0</td>\n",
       "    </tr>\n",
       "  </tbody>\n",
       "</table>\n",
       "</div>"
      ],
      "text/plain": [
       "       entity_code  entity_id\n",
       "count      55834.0    55834.0\n",
       "mean       11710.0       25.0\n",
       "std            0.0        0.0\n",
       "min        11710.0       25.0\n",
       "25%        11710.0       25.0\n",
       "50%        11710.0       25.0\n",
       "75%        11710.0       25.0\n",
       "max        11710.0       25.0"
      ]
     },
     "execution_count": 157,
     "metadata": {},
     "output_type": "execute_result"
    }
   ],
   "source": [
    "check[check['entity_code'] == 11710].describe()"
   ]
  },
  {
   "cell_type": "code",
   "execution_count": 158,
   "id": "b455a431",
   "metadata": {},
   "outputs": [
    {
     "data": {
      "text/html": [
       "<div>\n",
       "<style scoped>\n",
       "    .dataframe tbody tr th:only-of-type {\n",
       "        vertical-align: middle;\n",
       "    }\n",
       "\n",
       "    .dataframe tbody tr th {\n",
       "        vertical-align: top;\n",
       "    }\n",
       "\n",
       "    .dataframe thead th {\n",
       "        text-align: right;\n",
       "    }\n",
       "</style>\n",
       "<table border=\"1\" class=\"dataframe\">\n",
       "  <thead>\n",
       "    <tr style=\"text-align: right;\">\n",
       "      <th></th>\n",
       "      <th>entity_code</th>\n",
       "      <th>entity</th>\n",
       "      <th>entity_id</th>\n",
       "    </tr>\n",
       "  </thead>\n",
       "  <tbody>\n",
       "    <tr>\n",
       "      <th>15</th>\n",
       "      <td>11710</td>\n",
       "      <td>Germany_league_Bundesliga_0_Soccer</td>\n",
       "      <td>25</td>\n",
       "    </tr>\n",
       "    <tr>\n",
       "      <th>64</th>\n",
       "      <td>11710</td>\n",
       "      <td>Germany_league_Bundesliga_0_Soccer</td>\n",
       "      <td>25</td>\n",
       "    </tr>\n",
       "  </tbody>\n",
       "</table>\n",
       "</div>"
      ],
      "text/plain": [
       "    entity_code                              entity  entity_id\n",
       "15        11710  Germany_league_Bundesliga_0_Soccer         25\n",
       "64        11710  Germany_league_Bundesliga_0_Soccer         25"
      ]
     },
     "execution_count": 158,
     "metadata": {},
     "output_type": "execute_result"
    }
   ],
   "source": [
    "check[check['entity_code'] == 11710].head(2)"
   ]
  },
  {
   "cell_type": "markdown",
   "id": "1dd958d3",
   "metadata": {},
   "source": [
    "### The hypothesis is true and further as feature we can use entity id as the general characteristic for entity "
   ]
  },
  {
   "cell_type": "markdown",
   "id": "ebb45c70",
   "metadata": {},
   "source": [
    "- `In data description said that unique identifier for each user is the device_ID`\n",
    "- `Let's check that uid and device_id holds the same info`"
   ]
  },
  {
   "cell_type": "code",
   "execution_count": 159,
   "id": "93672930",
   "metadata": {},
   "outputs": [
    {
     "data": {
      "text/plain": [
       "1     303006\n",
       "2        866\n",
       "3         32\n",
       "4         18\n",
       "5          8\n",
       "6          6\n",
       "7          4\n",
       "9          3\n",
       "8          2\n",
       "10         2\n",
       "19         2\n",
       "40         1\n",
       "12         1\n",
       "13         1\n",
       "32         1\n",
       "11         1\n",
       "27         1\n",
       "29         1\n",
       "84         1\n",
       "Name: device_id, dtype: int64"
      ]
     },
     "execution_count": 159,
     "metadata": {},
     "output_type": "execute_result"
    }
   ],
   "source": [
    "data_additional.groupby(['uid'])['device_id'].apply(lambda x: len(x.unique())).value_counts()\n"
   ]
  },
  {
   "cell_type": "code",
   "execution_count": 160,
   "id": "5ebf702d",
   "metadata": {},
   "outputs": [
    {
     "data": {
      "text/plain": [
       "1    305359\n",
       "Name: uid, dtype: int64"
      ]
     },
     "execution_count": 160,
     "metadata": {},
     "output_type": "execute_result"
    }
   ],
   "source": [
    "data_additional.groupby(['device_id'])['uid'].apply(lambda x: len(x.unique())).value_counts()"
   ]
  },
  {
   "cell_type": "markdown",
   "id": "2f7eb65e",
   "metadata": {},
   "source": [
    "- `So, for some uid identifier we have more then one device_id, and the uid is unique for every device_id, I can assume that it is the identifier of users who use several devices from one account`"
   ]
  },
  {
   "cell_type": "markdown",
   "id": "3cab37ec",
   "metadata": {},
   "source": [
    "## Let's find useless columns, further this columns should'n be used in solution prototyping "
   ]
  },
  {
   "cell_type": "code",
   "execution_count": 161,
   "id": "bfb21dfc",
   "metadata": {},
   "outputs": [
    {
     "name": "stdout",
     "output_type": "stream",
     "text": [
      "campaign_related column contains 100.0 % of null values\n"
     ]
    }
   ],
   "source": [
    "for source in [data, data_additional]:\n",
    "    for i in source.columns:\n",
    "        if len(source[i].unique()) == 1:\n",
    "            print(f'{i} column contains {source[i].isna().sum(axis = 0)/source[i].size * 100 } % of null values')"
   ]
  },
  {
   "cell_type": "code",
   "execution_count": 162,
   "id": "7fcf33f9",
   "metadata": {},
   "outputs": [
    {
     "data": {
      "text/html": [
       "<div>\n",
       "<style scoped>\n",
       "    .dataframe tbody tr th:only-of-type {\n",
       "        vertical-align: middle;\n",
       "    }\n",
       "\n",
       "    .dataframe tbody tr th {\n",
       "        vertical-align: top;\n",
       "    }\n",
       "\n",
       "    .dataframe thead th {\n",
       "        text-align: right;\n",
       "    }\n",
       "</style>\n",
       "<table border=\"1\" class=\"dataframe\">\n",
       "  <thead>\n",
       "    <tr style=\"text-align: right;\">\n",
       "      <th></th>\n",
       "      <th>wizard_teams</th>\n",
       "      <th>wizard_leagues</th>\n",
       "      <th>lang_id</th>\n",
       "      <th>country_id</th>\n",
       "      <th>campaign_related</th>\n",
       "    </tr>\n",
       "  </thead>\n",
       "  <tbody>\n",
       "    <tr>\n",
       "      <th>count</th>\n",
       "      <td>330004.000000</td>\n",
       "      <td>330059.000000</td>\n",
       "      <td>5.567710e+05</td>\n",
       "      <td>5.568220e+05</td>\n",
       "      <td>0.0</td>\n",
       "    </tr>\n",
       "    <tr>\n",
       "      <th>mean</th>\n",
       "      <td>12.383535</td>\n",
       "      <td>9.745236</td>\n",
       "      <td>3.874411e+03</td>\n",
       "      <td>7.772749e+03</td>\n",
       "      <td>NaN</td>\n",
       "    </tr>\n",
       "    <tr>\n",
       "      <th>std</th>\n",
       "      <td>35.317273</td>\n",
       "      <td>13.480513</td>\n",
       "      <td>2.878005e+06</td>\n",
       "      <td>4.069924e+06</td>\n",
       "      <td>NaN</td>\n",
       "    </tr>\n",
       "    <tr>\n",
       "      <th>min</th>\n",
       "      <td>-1.000000</td>\n",
       "      <td>-1.000000</td>\n",
       "      <td>-1.000000e+00</td>\n",
       "      <td>-1.000000e+00</td>\n",
       "      <td>NaN</td>\n",
       "    </tr>\n",
       "    <tr>\n",
       "      <th>25%</th>\n",
       "      <td>0.000000</td>\n",
       "      <td>0.000000</td>\n",
       "      <td>-1.000000e+00</td>\n",
       "      <td>2.100000e+01</td>\n",
       "      <td>NaN</td>\n",
       "    </tr>\n",
       "    <tr>\n",
       "      <th>50%</th>\n",
       "      <td>3.000000</td>\n",
       "      <td>5.000000</td>\n",
       "      <td>2.700000e+01</td>\n",
       "      <td>2.100000e+01</td>\n",
       "      <td>NaN</td>\n",
       "    </tr>\n",
       "    <tr>\n",
       "      <th>75%</th>\n",
       "      <td>12.000000</td>\n",
       "      <td>14.000000</td>\n",
       "      <td>2.700000e+01</td>\n",
       "      <td>1.220000e+02</td>\n",
       "      <td>NaN</td>\n",
       "    </tr>\n",
       "    <tr>\n",
       "      <th>max</th>\n",
       "      <td>2534.000000</td>\n",
       "      <td>684.000000</td>\n",
       "      <td>2.147484e+09</td>\n",
       "      <td>2.147484e+09</td>\n",
       "      <td>NaN</td>\n",
       "    </tr>\n",
       "  </tbody>\n",
       "</table>\n",
       "</div>"
      ],
      "text/plain": [
       "        wizard_teams  wizard_leagues       lang_id    country_id  \\\n",
       "count  330004.000000   330059.000000  5.567710e+05  5.568220e+05   \n",
       "mean       12.383535        9.745236  3.874411e+03  7.772749e+03   \n",
       "std        35.317273       13.480513  2.878005e+06  4.069924e+06   \n",
       "min        -1.000000       -1.000000 -1.000000e+00 -1.000000e+00   \n",
       "25%         0.000000        0.000000 -1.000000e+00  2.100000e+01   \n",
       "50%         3.000000        5.000000  2.700000e+01  2.100000e+01   \n",
       "75%        12.000000       14.000000  2.700000e+01  1.220000e+02   \n",
       "max      2534.000000      684.000000  2.147484e+09  2.147484e+09   \n",
       "\n",
       "       campaign_related  \n",
       "count               0.0  \n",
       "mean                NaN  \n",
       "std                 NaN  \n",
       "min                 NaN  \n",
       "25%                 NaN  \n",
       "50%                 NaN  \n",
       "75%                 NaN  \n",
       "max                 NaN  "
      ]
     },
     "execution_count": 162,
     "metadata": {},
     "output_type": "execute_result"
    }
   ],
   "source": [
    "data.describe()"
   ]
  },
  {
   "cell_type": "markdown",
   "id": "0da1d60b",
   "metadata": {},
   "source": [
    "## Check for null values"
   ]
  },
  {
   "cell_type": "code",
   "execution_count": 163,
   "id": "bfe8f4d2",
   "metadata": {},
   "outputs": [
    {
     "data": {
      "image/png": "[encoded data removed]",
      "text/plain": [
       "<Figure size 864x432 with 1 Axes>"
      ]
     },
     "metadata": {
      "needs_background": "light"
     },
     "output_type": "display_data"
    },
    {
     "data": {
      "image/png": "[encoded data removed]",
      "text/plain": [
       "<Figure size 864x432 with 1 Axes>"
      ]
     },
     "metadata": {
      "needs_background": "light"
     },
     "output_type": "display_data"
    }
   ],
   "source": [
    "for source, var_name in zip([data, data_additional], [\"Dim_users\", \"Dim_user_selections\"]):\n",
    "    vals = (source.isnull().sum() / source.shape[0] * 100).sort_values()\n",
    "    fig, ax = plt.subplots(figsize = (12, 6))\n",
    "    ax.barh(vals.index, vals.values, height = 0.6,\n",
    "    color ='maroon')\n",
    "    \n",
    "    ax.set_title(f\"Amount of null values in {var_name} in Persentage, %\")\n",
    "    ax.set_ylabel(\"Column names\")\n",
    "    ax.grid()\n",
    "    ax.set_xlim(0, 100)\n",
    "\n",
    "    fig.tight_layout()"
   ]
  },
  {
   "cell_type": "markdown",
   "id": "c81d8ecf",
   "metadata": {},
   "source": [
    "- `As it was said in previouse paragraph, compaign related feature - is useless`\n",
    "- `media_source, media_source1 can be a good feature for churn prdiction, let's try to analyze whether we can fill the gap and check whether they differ`"
   ]
  },
  {
   "cell_type": "code",
   "execution_count": 164,
   "id": "86c7f9c3",
   "metadata": {},
   "outputs": [
    {
     "data": {
      "text/html": [
       "<div>\n",
       "<style scoped>\n",
       "    .dataframe tbody tr th:only-of-type {\n",
       "        vertical-align: middle;\n",
       "    }\n",
       "\n",
       "    .dataframe tbody tr th {\n",
       "        vertical-align: top;\n",
       "    }\n",
       "\n",
       "    .dataframe thead th {\n",
       "        text-align: right;\n",
       "    }\n",
       "</style>\n",
       "<table border=\"1\" class=\"dataframe\">\n",
       "  <thead>\n",
       "    <tr style=\"text-align: right;\">\n",
       "      <th></th>\n",
       "      <th>media_source</th>\n",
       "      <th>media_source1</th>\n",
       "    </tr>\n",
       "  </thead>\n",
       "  <tbody>\n",
       "    <tr>\n",
       "      <th>count</th>\n",
       "      <td>43564</td>\n",
       "      <td>43564</td>\n",
       "    </tr>\n",
       "    <tr>\n",
       "      <th>unique</th>\n",
       "      <td>25</td>\n",
       "      <td>25</td>\n",
       "    </tr>\n",
       "    <tr>\n",
       "      <th>top</th>\n",
       "      <td>Google Ads ACI</td>\n",
       "      <td>Google Ads ACI</td>\n",
       "    </tr>\n",
       "    <tr>\n",
       "      <th>freq</th>\n",
       "      <td>21829</td>\n",
       "      <td>21829</td>\n",
       "    </tr>\n",
       "  </tbody>\n",
       "</table>\n",
       "</div>"
      ],
      "text/plain": [
       "          media_source   media_source1\n",
       "count            43564           43564\n",
       "unique              25              25\n",
       "top     Google Ads ACI  Google Ads ACI\n",
       "freq             21829           21829"
      ]
     },
     "execution_count": 164,
     "metadata": {},
     "output_type": "execute_result"
    }
   ],
   "source": [
    "data[['media_source', 'media_source1']].describe()"
   ]
  },
  {
   "cell_type": "code",
   "execution_count": 168,
   "id": "2d80bce8",
   "metadata": {},
   "outputs": [],
   "source": [
    "col_difference = pd.Series(np.where((df['media_source'] == df['media_source1']), 'Yes', 'No'))"
   ]
  },
  {
   "cell_type": "code",
   "execution_count": 169,
   "id": "a3eec58d",
   "metadata": {},
   "outputs": [
    {
     "data": {
      "text/plain": [
       "Yes    556880\n",
       "dtype: int64"
      ]
     },
     "execution_count": 169,
     "metadata": {},
     "output_type": "execute_result"
    }
   ],
   "source": [
    "col_difference.value_counts()"
   ]
  },
  {
   "cell_type": "code",
   "execution_count": 350,
   "id": "06b3229e",
   "metadata": {},
   "outputs": [
    {
     "data": {
      "text/html": [
       "<div>\n",
       "<style scoped>\n",
       "    .dataframe tbody tr th:only-of-type {\n",
       "        vertical-align: middle;\n",
       "    }\n",
       "\n",
       "    .dataframe tbody tr th {\n",
       "        vertical-align: top;\n",
       "    }\n",
       "\n",
       "    .dataframe thead th {\n",
       "        text-align: right;\n",
       "    }\n",
       "</style>\n",
       "<table border=\"1\" class=\"dataframe\">\n",
       "  <thead>\n",
       "    <tr style=\"text-align: right;\">\n",
       "      <th></th>\n",
       "      <th>wizard_teams</th>\n",
       "      <th>wizard_leagues</th>\n",
       "    </tr>\n",
       "  </thead>\n",
       "  <tbody>\n",
       "    <tr>\n",
       "      <th>count</th>\n",
       "      <td>330004.000000</td>\n",
       "      <td>330059.000000</td>\n",
       "    </tr>\n",
       "    <tr>\n",
       "      <th>mean</th>\n",
       "      <td>12.383535</td>\n",
       "      <td>9.745236</td>\n",
       "    </tr>\n",
       "    <tr>\n",
       "      <th>std</th>\n",
       "      <td>35.317273</td>\n",
       "      <td>13.480513</td>\n",
       "    </tr>\n",
       "    <tr>\n",
       "      <th>min</th>\n",
       "      <td>-1.000000</td>\n",
       "      <td>-1.000000</td>\n",
       "    </tr>\n",
       "    <tr>\n",
       "      <th>25%</th>\n",
       "      <td>0.000000</td>\n",
       "      <td>0.000000</td>\n",
       "    </tr>\n",
       "    <tr>\n",
       "      <th>50%</th>\n",
       "      <td>3.000000</td>\n",
       "      <td>5.000000</td>\n",
       "    </tr>\n",
       "    <tr>\n",
       "      <th>75%</th>\n",
       "      <td>12.000000</td>\n",
       "      <td>14.000000</td>\n",
       "    </tr>\n",
       "    <tr>\n",
       "      <th>max</th>\n",
       "      <td>2534.000000</td>\n",
       "      <td>684.000000</td>\n",
       "    </tr>\n",
       "  </tbody>\n",
       "</table>\n",
       "</div>"
      ],
      "text/plain": [
       "        wizard_teams  wizard_leagues\n",
       "count  330004.000000   330059.000000\n",
       "mean       12.383535        9.745236\n",
       "std        35.317273       13.480513\n",
       "min        -1.000000       -1.000000\n",
       "25%         0.000000        0.000000\n",
       "50%         3.000000        5.000000\n",
       "75%        12.000000       14.000000\n",
       "max      2534.000000      684.000000"
      ]
     },
     "execution_count": 350,
     "metadata": {},
     "output_type": "execute_result"
    }
   ],
   "source": [
    "data[['wizard_teams', 'wizard_leagues']].describe()"
   ]
  },
  {
   "cell_type": "code",
   "execution_count": 357,
   "id": "a35d34c7",
   "metadata": {},
   "outputs": [
    {
     "data": {
      "text/plain": [
       "(                wizard_teams  wizard_leagues\n",
       " wizard_teams        1.000000        0.827817\n",
       " wizard_leagues      0.827817        1.000000,\n",
       "                 wizard_teams  wizard_leagues\n",
       " wizard_teams        1.000000        0.435081\n",
       " wizard_leagues      0.435081        1.000000)"
      ]
     },
     "execution_count": 357,
     "metadata": {},
     "output_type": "execute_result"
    }
   ],
   "source": [
    "#This features are higly correlated \n",
    "data[['wizard_teams', 'wizard_leagues']].corr(method = 'spearman'), data[['wizard_teams', \\\n",
    "                                            'wizard_leagues']].corr()"
   ]
  },
  {
   "cell_type": "code",
   "execution_count": 354,
   "id": "60f13a13",
   "metadata": {},
   "outputs": [
    {
     "data": {
      "text/plain": [
       "Yes    347354\n",
       "No     209526\n",
       "dtype: int64"
      ]
     },
     "execution_count": 354,
     "metadata": {},
     "output_type": "execute_result"
    }
   ],
   "source": [
    "pd.Series(np.where((df['wizard_teams'] != df['wizard_leagues']), 'No', 'Yes')).value_counts()"
   ]
  },
  {
   "cell_type": "markdown",
   "id": "c4be59dc",
   "metadata": {},
   "source": [
    "- `wizard_teams and wizard_leagues are higly correlated and depended, probably only one feature should be used in base model bc our feature matix will have zero determinant and it's not good for linear models`"
   ]
  },
  {
   "cell_type": "markdown",
   "id": "56e456ab",
   "metadata": {},
   "source": [
    "### So, we should drop media_source1, compaign_related from data"
   ]
  },
  {
   "cell_type": "code",
   "execution_count": 171,
   "id": "6f28ad4f",
   "metadata": {},
   "outputs": [],
   "source": [
    "data.drop(columns=['media_source1', 'campaign_related'], inplace = True)"
   ]
  },
  {
   "cell_type": "markdown",
   "id": "992b6755",
   "metadata": {},
   "source": [
    "## Let's check how staitforward are all charectiristics"
   ]
  },
  {
   "cell_type": "code",
   "execution_count": 330,
   "id": "9fdbc95a",
   "metadata": {},
   "outputs": [
    {
     "name": "stdout",
     "output_type": "stream",
     "text": [
      "Cardinality of platform: 2\n",
      "Cardinality of user_country: 196\n",
      "Cardinality of user_language: 45\n",
      "Cardinality of entity_name: 24948\n",
      "Cardinality of entity_country: 211\n",
      "Cardinality of entity_type: 4\n",
      "Cardinality of sport_type: 15\n",
      "Cardinality of region_name: 7\n",
      "Cardinality of app_version: 471\n",
      "Cardinality of idx: 3\n"
     ]
    }
   ],
   "source": [
    "for feature in cols_for_pie:\n",
    "    print(f\"Cardinality of {feature}:\" , len(data_additional.groupby(feature).size()))"
   ]
  },
  {
   "cell_type": "code",
   "execution_count": 179,
   "id": "d85364fc",
   "metadata": {},
   "outputs": [
    {
     "data": {
      "text/html": [
       "<div>\n",
       "<style scoped>\n",
       "    .dataframe tbody tr th:only-of-type {\n",
       "        vertical-align: middle;\n",
       "    }\n",
       "\n",
       "    .dataframe tbody tr th {\n",
       "        vertical-align: top;\n",
       "    }\n",
       "\n",
       "    .dataframe thead th {\n",
       "        text-align: right;\n",
       "    }\n",
       "</style>\n",
       "<table border=\"1\" class=\"dataframe\">\n",
       "  <thead>\n",
       "    <tr style=\"text-align: right;\">\n",
       "      <th></th>\n",
       "      <th>device_id</th>\n",
       "      <th>wizard_teams</th>\n",
       "      <th>wizard_leagues</th>\n",
       "      <th>install_time</th>\n",
       "      <th>last_touch</th>\n",
       "      <th>lang_id</th>\n",
       "      <th>country_id</th>\n",
       "      <th>media_source</th>\n",
       "      <th>device_type</th>\n",
       "      <th>os_version</th>\n",
       "      <th>campaign_name</th>\n",
       "      <th>is_finished_wizard</th>\n",
       "      <th>device_model</th>\n",
       "      <th>is_google_connect</th>\n",
       "      <th>is_facebook_connect</th>\n",
       "    </tr>\n",
       "  </thead>\n",
       "  <tbody>\n",
       "    <tr>\n",
       "      <th>0</th>\n",
       "      <td>25BAC755-A01C-4F01-BDC9-93F208B056C8</td>\n",
       "      <td>10.0</td>\n",
       "      <td>1.0</td>\n",
       "      <td>2022-08-01 00:35:08.570193</td>\n",
       "      <td>2022-12-22 23:55:30.307947</td>\n",
       "      <td>27.0</td>\n",
       "      <td>122.0</td>\n",
       "      <td>NaN</td>\n",
       "      <td>ios</td>\n",
       "      <td>16.1.1</td>\n",
       "      <td>NaN</td>\n",
       "      <td>True</td>\n",
       "      <td>iPhone12,1</td>\n",
       "      <td>False</td>\n",
       "      <td>False</td>\n",
       "    </tr>\n",
       "    <tr>\n",
       "      <th>1</th>\n",
       "      <td>D872EB9C-9D7C-4BB5-9F93-DAE205DBC77C</td>\n",
       "      <td>1.0</td>\n",
       "      <td>4.0</td>\n",
       "      <td>2022-08-01 01:06:34.698656</td>\n",
       "      <td>2022-12-27 20:23:06.924687</td>\n",
       "      <td>1.0</td>\n",
       "      <td>114.0</td>\n",
       "      <td>NaN</td>\n",
       "      <td>ios</td>\n",
       "      <td>16.1.1</td>\n",
       "      <td>NaN</td>\n",
       "      <td>True</td>\n",
       "      <td>iPhone11,6</td>\n",
       "      <td>False</td>\n",
       "      <td>True</td>\n",
       "    </tr>\n",
       "    <tr>\n",
       "      <th>2</th>\n",
       "      <td>A97BB287-038F-473D-ADB2-B14523FA186A</td>\n",
       "      <td>52.0</td>\n",
       "      <td>20.0</td>\n",
       "      <td>2022-08-01 01:21:34.164914</td>\n",
       "      <td>2022-12-26 15:43:04.212841</td>\n",
       "      <td>27.0</td>\n",
       "      <td>122.0</td>\n",
       "      <td>NaN</td>\n",
       "      <td>ios</td>\n",
       "      <td>16.2</td>\n",
       "      <td>NaN</td>\n",
       "      <td>True</td>\n",
       "      <td>iPhone10,6</td>\n",
       "      <td>False</td>\n",
       "      <td>True</td>\n",
       "    </tr>\n",
       "    <tr>\n",
       "      <th>3</th>\n",
       "      <td>3BA8010D-D327-4829-A40C-AE06941A75B8</td>\n",
       "      <td>0.0</td>\n",
       "      <td>0.0</td>\n",
       "      <td>2022-08-01 02:14:59.689760</td>\n",
       "      <td>2022-12-25 19:39:32.245611</td>\n",
       "      <td>27.0</td>\n",
       "      <td>131.0</td>\n",
       "      <td>NaN</td>\n",
       "      <td>ios</td>\n",
       "      <td>15.6</td>\n",
       "      <td>NaN</td>\n",
       "      <td>True</td>\n",
       "      <td>iPhone10,6</td>\n",
       "      <td>False</td>\n",
       "      <td>True</td>\n",
       "    </tr>\n",
       "    <tr>\n",
       "      <th>4</th>\n",
       "      <td>059D978E-33F7-48C2-BFF1-9027FD869697</td>\n",
       "      <td>1.0</td>\n",
       "      <td>1.0</td>\n",
       "      <td>2022-08-01 03:37:00.888992</td>\n",
       "      <td>2022-12-23 23:22:51.776656</td>\n",
       "      <td>31.0</td>\n",
       "      <td>21.0</td>\n",
       "      <td>NaN</td>\n",
       "      <td>ios</td>\n",
       "      <td>16.1.1</td>\n",
       "      <td>NaN</td>\n",
       "      <td>True</td>\n",
       "      <td>iPhone12,5</td>\n",
       "      <td>False</td>\n",
       "      <td>False</td>\n",
       "    </tr>\n",
       "    <tr>\n",
       "      <th>...</th>\n",
       "      <td>...</td>\n",
       "      <td>...</td>\n",
       "      <td>...</td>\n",
       "      <td>...</td>\n",
       "      <td>...</td>\n",
       "      <td>...</td>\n",
       "      <td>...</td>\n",
       "      <td>...</td>\n",
       "      <td>...</td>\n",
       "      <td>...</td>\n",
       "      <td>...</td>\n",
       "      <td>...</td>\n",
       "      <td>...</td>\n",
       "      <td>...</td>\n",
       "      <td>...</td>\n",
       "    </tr>\n",
       "    <tr>\n",
       "      <th>556875</th>\n",
       "      <td>f30bbef1-f84b-4840-adfc-f7a715236b36</td>\n",
       "      <td>NaN</td>\n",
       "      <td>NaN</td>\n",
       "      <td>2022-09-21 16:09:56.323000</td>\n",
       "      <td>2022-09-21 16:09:56.323000</td>\n",
       "      <td>-1.0</td>\n",
       "      <td>21.0</td>\n",
       "      <td>NaN</td>\n",
       "      <td>android</td>\n",
       "      <td>10</td>\n",
       "      <td>NaN</td>\n",
       "      <td>False</td>\n",
       "      <td>samsung sm-j610g</td>\n",
       "      <td>False</td>\n",
       "      <td>False</td>\n",
       "    </tr>\n",
       "    <tr>\n",
       "      <th>556876</th>\n",
       "      <td>8e67c975-4c48-4198-bbc3-de5c3f80cd14</td>\n",
       "      <td>NaN</td>\n",
       "      <td>NaN</td>\n",
       "      <td>2022-09-21 17:16:03.773000</td>\n",
       "      <td>2022-09-21 17:16:03.773000</td>\n",
       "      <td>27.0</td>\n",
       "      <td>131.0</td>\n",
       "      <td>NaN</td>\n",
       "      <td>android</td>\n",
       "      <td>7.0</td>\n",
       "      <td>NaN</td>\n",
       "      <td>False</td>\n",
       "      <td>huawei nxt-l29</td>\n",
       "      <td>False</td>\n",
       "      <td>False</td>\n",
       "    </tr>\n",
       "    <tr>\n",
       "      <th>556877</th>\n",
       "      <td>025bea2e-cdc1-4bd2-b0f6-8f359186c992</td>\n",
       "      <td>NaN</td>\n",
       "      <td>NaN</td>\n",
       "      <td>2022-09-21 18:19:35.487000</td>\n",
       "      <td>2022-09-21 18:19:35.487000</td>\n",
       "      <td>-1.0</td>\n",
       "      <td>0.0</td>\n",
       "      <td>NaN</td>\n",
       "      <td>android</td>\n",
       "      <td>11</td>\n",
       "      <td>NaN</td>\n",
       "      <td>False</td>\n",
       "      <td>samsung sm-a035m</td>\n",
       "      <td>False</td>\n",
       "      <td>False</td>\n",
       "    </tr>\n",
       "    <tr>\n",
       "      <th>556878</th>\n",
       "      <td>0f45f0db-70bb-4e8e-a0d5-cf8b40dd34d0</td>\n",
       "      <td>NaN</td>\n",
       "      <td>NaN</td>\n",
       "      <td>2022-11-17 14:24:28.647000</td>\n",
       "      <td>2022-11-17 14:24:28.647000</td>\n",
       "      <td>-1.0</td>\n",
       "      <td>0.0</td>\n",
       "      <td>NaN</td>\n",
       "      <td>android</td>\n",
       "      <td>12</td>\n",
       "      <td>NaN</td>\n",
       "      <td>False</td>\n",
       "      <td>samsung sm-a035m</td>\n",
       "      <td>False</td>\n",
       "      <td>False</td>\n",
       "    </tr>\n",
       "    <tr>\n",
       "      <th>556879</th>\n",
       "      <td>0e6ebee5-826a-4db2-99f8-10b0fec808fe</td>\n",
       "      <td>NaN</td>\n",
       "      <td>NaN</td>\n",
       "      <td>2022-11-17 14:48:10.850000</td>\n",
       "      <td>2022-11-17 14:48:10.850000</td>\n",
       "      <td>-1.0</td>\n",
       "      <td>0.0</td>\n",
       "      <td>NaN</td>\n",
       "      <td>android</td>\n",
       "      <td>12</td>\n",
       "      <td>NaN</td>\n",
       "      <td>False</td>\n",
       "      <td>samsung sm-a217m</td>\n",
       "      <td>False</td>\n",
       "      <td>False</td>\n",
       "    </tr>\n",
       "  </tbody>\n",
       "</table>\n",
       "<p>556880 rows × 15 columns</p>\n",
       "</div>"
      ],
      "text/plain": [
       "                                   device_id  wizard_teams  wizard_leagues  \\\n",
       "0       25BAC755-A01C-4F01-BDC9-93F208B056C8          10.0             1.0   \n",
       "1       D872EB9C-9D7C-4BB5-9F93-DAE205DBC77C           1.0             4.0   \n",
       "2       A97BB287-038F-473D-ADB2-B14523FA186A          52.0            20.0   \n",
       "3       3BA8010D-D327-4829-A40C-AE06941A75B8           0.0             0.0   \n",
       "4       059D978E-33F7-48C2-BFF1-9027FD869697           1.0             1.0   \n",
       "...                                      ...           ...             ...   \n",
       "556875  f30bbef1-f84b-4840-adfc-f7a715236b36           NaN             NaN   \n",
       "556876  8e67c975-4c48-4198-bbc3-de5c3f80cd14           NaN             NaN   \n",
       "556877  025bea2e-cdc1-4bd2-b0f6-8f359186c992           NaN             NaN   \n",
       "556878  0f45f0db-70bb-4e8e-a0d5-cf8b40dd34d0           NaN             NaN   \n",
       "556879  0e6ebee5-826a-4db2-99f8-10b0fec808fe           NaN             NaN   \n",
       "\n",
       "                      install_time                  last_touch  lang_id  \\\n",
       "0       2022-08-01 00:35:08.570193  2022-12-22 23:55:30.307947     27.0   \n",
       "1       2022-08-01 01:06:34.698656  2022-12-27 20:23:06.924687      1.0   \n",
       "2       2022-08-01 01:21:34.164914  2022-12-26 15:43:04.212841     27.0   \n",
       "3       2022-08-01 02:14:59.689760  2022-12-25 19:39:32.245611     27.0   \n",
       "4       2022-08-01 03:37:00.888992  2022-12-23 23:22:51.776656     31.0   \n",
       "...                            ...                         ...      ...   \n",
       "556875  2022-09-21 16:09:56.323000  2022-09-21 16:09:56.323000     -1.0   \n",
       "556876  2022-09-21 17:16:03.773000  2022-09-21 17:16:03.773000     27.0   \n",
       "556877  2022-09-21 18:19:35.487000  2022-09-21 18:19:35.487000     -1.0   \n",
       "556878  2022-11-17 14:24:28.647000  2022-11-17 14:24:28.647000     -1.0   \n",
       "556879  2022-11-17 14:48:10.850000  2022-11-17 14:48:10.850000     -1.0   \n",
       "\n",
       "        country_id media_source device_type os_version campaign_name  \\\n",
       "0            122.0          NaN         ios     16.1.1           NaN   \n",
       "1            114.0          NaN         ios     16.1.1           NaN   \n",
       "2            122.0          NaN         ios       16.2           NaN   \n",
       "3            131.0          NaN         ios       15.6           NaN   \n",
       "4             21.0          NaN         ios     16.1.1           NaN   \n",
       "...            ...          ...         ...        ...           ...   \n",
       "556875        21.0          NaN     android         10           NaN   \n",
       "556876       131.0          NaN     android        7.0           NaN   \n",
       "556877         0.0          NaN     android         11           NaN   \n",
       "556878         0.0          NaN     android         12           NaN   \n",
       "556879         0.0          NaN     android         12           NaN   \n",
       "\n",
       "       is_finished_wizard      device_model  is_google_connect  \\\n",
       "0                    True        iPhone12,1              False   \n",
       "1                    True        iPhone11,6              False   \n",
       "2                    True        iPhone10,6              False   \n",
       "3                    True        iPhone10,6              False   \n",
       "4                    True        iPhone12,5              False   \n",
       "...                   ...               ...                ...   \n",
       "556875              False  samsung sm-j610g              False   \n",
       "556876              False    huawei nxt-l29              False   \n",
       "556877              False  samsung sm-a035m              False   \n",
       "556878              False  samsung sm-a035m              False   \n",
       "556879              False  samsung sm-a217m              False   \n",
       "\n",
       "        is_facebook_connect  \n",
       "0                     False  \n",
       "1                      True  \n",
       "2                      True  \n",
       "3                      True  \n",
       "4                     False  \n",
       "...                     ...  \n",
       "556875                False  \n",
       "556876                False  \n",
       "556877                False  \n",
       "556878                False  \n",
       "556879                False  \n",
       "\n",
       "[556880 rows x 15 columns]"
      ]
     },
     "execution_count": 179,
     "metadata": {},
     "output_type": "execute_result"
    }
   ],
   "source": [
    "data"
   ]
  },
  {
   "cell_type": "markdown",
   "id": "9b08aec9",
   "metadata": {},
   "source": [
    "## The data columns with amount of categories more than 15 has high cardinality, let's plot only data that has less classes"
   ]
  },
  {
   "cell_type": "code",
   "execution_count": 332,
   "id": "e46b1c56",
   "metadata": {
    "scrolled": false
   },
   "outputs": [
    {
     "data": {
      "image/png": "[encoded data removed]",
      "text/plain": [
       "<Figure size 2016x720 with 4 Axes>"
      ]
     },
     "metadata": {
      "needs_background": "light"
     },
     "output_type": "display_data"
    }
   ],
   "source": [
    "k = ['platform', 'entity_type', 'region_name', 'idx']\n",
    "fig, axes = plt.subplots(nrows = 1, ncols = 4, figsize = (28,10))\n",
    "\n",
    "for i, item in enumerate(k):\n",
    "    \n",
    "    ax = data_additional[item].value_counts().plot(\n",
    "    kind = 'bar',ax=axes[i], rot = 0, color ='#f3babc' )\n",
    "        \n",
    "    ax.set_title(item)"
   ]
  },
  {
   "cell_type": "markdown",
   "id": "4c078da9",
   "metadata": {},
   "source": [
    "- `We can observe that we have much more activity from user that use ios. And perform more actions \n",
    "on followong league and game`\n",
    "- `The main activity is from Meadle East, Latin America and Gulf Cooperation Council (Saudi Arabia)`"
   ]
  },
  {
   "cell_type": "code",
   "execution_count": 333,
   "id": "2acf8f91",
   "metadata": {},
   "outputs": [
    {
     "data": {
      "image/png": "[encoded data removed]",
      "text/plain": [
       "<Figure size 2016x720 with 4 Axes>"
      ]
     },
     "metadata": {
      "needs_background": "light"
     },
     "output_type": "display_data"
    }
   ],
   "source": [
    "# Let's check this activities per user\n",
    "\n",
    "k = ['platform', 'entity_type', 'region_name', 'idx']\n",
    "fig, axes = plt.subplots(nrows = 1, ncols = 4, figsize = (28,10))\n",
    "\n",
    "for i, item in enumerate(k):\n",
    "    \n",
    "    ax = data_additional.groupby('device_id')[item].agg(lambda x: x.value_counts().index[0]).value_counts().plot(\n",
    "    kind = 'bar',ax=axes[i], rot = 0, color ='#f3babc' )\n",
    "        \n",
    "    ax.set_title(item)"
   ]
  },
  {
   "cell_type": "markdown",
   "id": "830df747",
   "metadata": {},
   "source": [
    "- ` The the statistics per user is the same`\n",
    "- ` The index idx states the time/code of the action and the 1 is the most popular for every user, so this deature is not usefull for churn prediction`\n",
    "- ` Let's explore the App version feature, it has high cardianlity and differnet format of vesrion recorded`"
   ]
  },
  {
   "cell_type": "code",
   "execution_count": 195,
   "id": "53a289e7",
   "metadata": {},
   "outputs": [
    {
     "data": {
      "image/png": "[encoded data removed]",
      "text/plain": [
       "<Figure size 1440x1080 with 1 Axes>"
      ]
     },
     "metadata": {},
     "output_type": "display_data"
    }
   ],
   "source": [
    "fig = plt.figure(figsize =(20, 15))\n",
    "plt.pie(data_additional.groupby('app_version').size(), labels = data_additional.groupby('app_version').size().index)\n",
    "plt.title('App version feature has high cardinality {}'.format(len(set(data_additional['app_version']))))\n",
    "plt.show()"
   ]
  },
  {
   "cell_type": "code",
   "execution_count": 198,
   "id": "43c8785c",
   "metadata": {},
   "outputs": [
    {
     "name": "stdout",
     "output_type": "stream",
     "text": [
      "5.7.8 (5745)    220240\n",
      "5.6.7 (5171)    136590\n",
      "5.7.7 (5726)     75613\n",
      "5.6.8 (5514)     54799\n",
      "5.6.9 (5601)     35523\n",
      "                 ...  \n",
      "12.1.5               0\n",
      "12.1.4               0\n",
      "12.1.3               0\n",
      "12.1.2               0\n",
      "962                  0\n",
      "Name: app_version, Length: 486, dtype: int64\n",
      "12.0.7           50320\n",
      "12.2.6           49187\n",
      "12.1.1           36282\n",
      "12.2.5           35638\n",
      "12.1.2           18618\n",
      "                 ...  \n",
      "5.7.5 (5702)         0\n",
      "5.4.2 (1242)         0\n",
      "5.7.7 (5723)         0\n",
      "5.7.7 (5726)         0\n",
      "343 CFNetwork        0\n",
      "Name: app_version, Length: 486, dtype: int64\n"
     ]
    }
   ],
   "source": [
    "for platform in set(data_additional['platform']):\n",
    "    print(data_additional.loc[data_additional['platform'] == platform, 'app_version'].value_counts())"
   ]
  },
  {
   "cell_type": "code",
   "execution_count": 216,
   "id": "58127075",
   "metadata": {},
   "outputs": [
    {
     "name": "stdout",
     "output_type": "stream",
     "text": [
      "Version names that are common for both platforms: {'5.6.7', '5.5.0', '5.6.4', '3.6.4'}\n"
     ]
    }
   ],
   "source": [
    "print(f\"\"\"Version names that are common for both platforms: \\\n",
    "{(set(data_additional.loc[data_additional['platform'] == 'ios', 'app_version'])) \n",
    "& (set(data_additional.loc[data_additional['platform'] == 'android', 'app_version']))}\"\"\")"
   ]
  },
  {
   "cell_type": "code",
   "execution_count": 243,
   "id": "3677783a",
   "metadata": {},
   "outputs": [],
   "source": [
    "data_additional[['app_version_1', 'app_version_2']] = data_additional.app_version.str.split('\\(|\\)', \\\n",
    "                expand=True).iloc[: , [0, 1]]"
   ]
  },
  {
   "cell_type": "code",
   "execution_count": 304,
   "id": "b5a21ccf",
   "metadata": {},
   "outputs": [],
   "source": [
    "app_v = dict(zip(data_additional['app_version_2'], data_additional['app_version_1']))\n",
    "data_additional['app_version_3'] = data_additional['app_version_1'].apply(lambda x: app_v[x] if x in app_v.keys() else x)"
   ]
  },
  {
   "cell_type": "code",
   "execution_count": 313,
   "id": "5c551be4",
   "metadata": {},
   "outputs": [
    {
     "name": "stdout",
     "output_type": "stream",
     "text": [
      "Cross mapping vesrion name gives 487 unique namings\n"
     ]
    }
   ],
   "source": [
    "print('Cross mapping vesrion name gives {} unique namings'.\\\n",
    "      format(len(set(data_additional['app_version']))))"
   ]
  },
  {
   "cell_type": "code",
   "execution_count": 312,
   "id": "f2145f6f",
   "metadata": {},
   "outputs": [
    {
     "name": "stdout",
     "output_type": "stream",
     "text": [
      "Cross mapping vesrion name gives 472 unique namings\n"
     ]
    }
   ],
   "source": [
    "print('Cross mapping vesrion name gives {} unique namings'.\\\n",
    "      format(len(set(data_additional['app_version_3']))))"
   ]
  },
  {
   "cell_type": "code",
   "execution_count": 311,
   "id": "a944d2f6",
   "metadata": {},
   "outputs": [
    {
     "name": "stdout",
     "output_type": "stream",
     "text": [
      "Taking vesrion name gives 84 unique namings\n"
     ]
    }
   ],
   "source": [
    "print('Taking vesrion name gives {} unique namings'.\\\n",
    "      format(len(set(data_additional['app_version'].apply(lambda x: x.split('.')[0])))))\n"
   ]
  },
  {
   "cell_type": "code",
   "execution_count": 315,
   "id": "d61ed0ae",
   "metadata": {},
   "outputs": [],
   "source": [
    "data_additional['app_version'] = data_additional['app_version_3'].values"
   ]
  },
  {
   "cell_type": "code",
   "execution_count": 316,
   "id": "9716be6d",
   "metadata": {},
   "outputs": [],
   "source": [
    "data_additional.drop(columns = ['app_version_3', 'app_version_2', 'app_version_1'], inplace = True)"
   ]
  },
  {
   "cell_type": "markdown",
   "id": "cb84f62f",
   "metadata": {},
   "source": [
    "- `It can be reduced to 84, but we should consider the logic beyong this version assigning. So I performed only replacing by alredy existing codes when the naming is long`"
   ]
  },
  {
   "cell_type": "markdown",
   "id": "75e044b7",
   "metadata": {},
   "source": [
    "## Let's aggregate features that can be useful for churn prediction for every user\n",
    "\n",
    "- I selected the following:  'platform', 'user_country', 'user_language', 'favorite', 'region_name', 'entity_id', 'app_version'\n",
    "- But the data with user action is not full for all users we have"
   ]
  },
  {
   "cell_type": "code",
   "execution_count": 334,
   "id": "e0424324",
   "metadata": {},
   "outputs": [],
   "source": [
    "common_id = set(data_additional['device_id']) & set(data['device_id'])"
   ]
  },
  {
   "cell_type": "code",
   "execution_count": 335,
   "id": "5e1beea5",
   "metadata": {},
   "outputs": [
    {
     "name": "stdout",
     "output_type": "stream",
     "text": [
      "Proportion of users, for which we can append more details from activity table : 0.41275858353684813\n"
     ]
    }
   ],
   "source": [
    "print(f\"\"\"Proportion of users, for which we can append more details from activity table : \\\n",
    "{len(set(data.loc[data['device_id'].isin(common_id), 'device_id'])) / len(set(data['device_id']))}\"\"\")"
   ]
  },
  {
   "cell_type": "code",
   "execution_count": 336,
   "id": "bb8fb086",
   "metadata": {},
   "outputs": [],
   "source": [
    "data_additional_agg = pd.DataFrame(index = data_additional.groupby('device_id')['device_id'].\\\n",
    "                                   agg(lambda x: x.head(1)))"
   ]
  },
  {
   "cell_type": "code",
   "execution_count": 337,
   "id": "b44184b4",
   "metadata": {},
   "outputs": [],
   "source": [
    "for i in ['user_country', 'user_language', 'favorite', 'region_name', 'entity_id', 'app_version']:\n",
    "    \n",
    "    data_additional_agg[i] = data_additional.groupby('device_id')[i].\\\n",
    "                    agg(lambda x: x.value_counts().index[0])"
   ]
  },
  {
   "cell_type": "code",
   "execution_count": 338,
   "id": "1f3d2914",
   "metadata": {},
   "outputs": [],
   "source": [
    "data_additional_agg = data_additional_agg.reset_index()"
   ]
  },
  {
   "cell_type": "code",
   "execution_count": 339,
   "id": "eecf92cf",
   "metadata": {},
   "outputs": [],
   "source": [
    "data = data.merge(data_additional_agg, how = 'left', on = 'device_id')"
   ]
  },
  {
   "cell_type": "markdown",
   "id": "3f2eee8c",
   "metadata": {},
   "source": [
    "## Dealing with nulls "
   ]
  },
  {
   "cell_type": "code",
   "execution_count": 358,
   "id": "c8db2243",
   "metadata": {},
   "outputs": [
    {
     "data": {
      "text/plain": [
       "Index(['wizard_teams', 'wizard_leagues', 'media_source', 'campaign_name',\n",
       "       'user_country', 'user_language', 'favorite', 'region_name', 'entity_id',\n",
       "       'app_version'],\n",
       "      dtype='object')"
      ]
     },
     "execution_count": 358,
     "metadata": {},
     "output_type": "execute_result"
    }
   ],
   "source": [
    "data.columns[((data.isnull().sum() / data.shape[0] * 100 ) > 40)]"
   ]
  },
  {
   "cell_type": "markdown",
   "id": "7c5ca2d7",
   "metadata": {},
   "source": [
    "- ` If our baseline model is not linear, it can deal with null values, also we can fill it by the most common in group of users in country (for example) `"
   ]
  },
  {
   "cell_type": "markdown",
   "id": "b6fa494c",
   "metadata": {},
   "source": [
    "## Check for duplicates"
   ]
  },
  {
   "cell_type": "code",
   "execution_count": 359,
   "id": "b1152d12",
   "metadata": {},
   "outputs": [
    {
     "name": "stdout",
     "output_type": "stream",
     "text": [
      "no of duplicates in Dim_users:  0\n"
     ]
    }
   ],
   "source": [
    "print('no of duplicates in Dim_users: ',len(data[data.duplicated()]))\n",
    "data.drop_duplicates(inplace=True)"
   ]
  },
  {
   "cell_type": "code",
   "execution_count": 360,
   "id": "6cae83c1",
   "metadata": {},
   "outputs": [
    {
     "name": "stdout",
     "output_type": "stream",
     "text": [
      "no of duplicates in Dim_user_selections:  0\n"
     ]
    }
   ],
   "source": [
    "print('no of duplicates in Dim_user_selections: ',len(data_additional[data_additional.duplicated()]))\n",
    "data_additional.drop_duplicates(inplace=True)"
   ]
  },
  {
   "cell_type": "markdown",
   "id": "1321583b",
   "metadata": {},
   "source": [
    "## Let's create target column, that will be used in analysis \n",
    "- `Hopefuly we don't have nulls in last_touch and install_time cols'"
   ]
  },
  {
   "cell_type": "code",
   "execution_count": 361,
   "id": "0b36a45f",
   "metadata": {},
   "outputs": [],
   "source": [
    "data[['last_touch', 'install_time']] = data[['last_touch', 'install_time']].\\\n",
    "                                    apply(lambda x : pd.to_datetime(x, format='%Y-%m-%d %H:%M:%S.%f'))"
   ]
  },
  {
   "cell_type": "code",
   "execution_count": 362,
   "id": "fe895c83",
   "metadata": {},
   "outputs": [],
   "source": [
    "data['retention'] = (data['last_touch'] - data['install_time']).dt.days"
   ]
  },
  {
   "cell_type": "code",
   "execution_count": 363,
   "id": "9d1ed3b1",
   "metadata": {},
   "outputs": [],
   "source": [
    "data['churn'] = None\n",
    "data.loc[data['retention'] >= 5, 'churn'] = 0\n",
    "data.loc[data['retention'] < 5, 'churn'] = 1"
   ]
  },
  {
   "cell_type": "markdown",
   "id": "5bb92197",
   "metadata": {},
   "source": [
    "## Let's check does the retension of users with ios/Android devices differs "
   ]
  },
  {
   "cell_type": "code",
   "execution_count": 364,
   "id": "92f64135",
   "metadata": {},
   "outputs": [
    {
     "data": {
      "image/png": "[encoded data removed]",
      "text/plain": [
       "<Figure size 1440x720 with 2 Axes>"
      ]
     },
     "metadata": {
      "needs_background": "light"
     },
     "output_type": "display_data"
    }
   ],
   "source": [
    "selection = set(data['device_type'])\n",
    "fig, axes = plt.subplots(1, len(selection), figsize = (20, 10))\n",
    "for i, col in enumerate(selection):\n",
    "    mask = data['device_type'] == col\n",
    "    ax = sns.boxplot(x=\"device_type\", y=\"retention\", data=data[mask], ax=axes.flatten()[i])\n",
    "    ax.set_ylabel(col)\n",
    "plt.show()"
   ]
  },
  {
   "cell_type": "markdown",
   "id": "565c9f36",
   "metadata": {},
   "source": [
    "## Check whether there is an error in date updates"
   ]
  },
  {
   "cell_type": "code",
   "execution_count": 365,
   "id": "64025824",
   "metadata": {},
   "outputs": [
    {
     "name": "stdout",
     "output_type": "stream",
     "text": [
      "Checking for negative retention days:  0 days \n"
     ]
    }
   ],
   "source": [
    "print(f\"\"\"Checking for negative retention days: \\\n",
    " {len(data.loc[(data['last_touch'] - data['install_time']) < pd.Timedelta(0, 'days'), :])} days \"\"\")"
   ]
  },
  {
   "cell_type": "markdown",
   "id": "cc354971",
   "metadata": {},
   "source": [
    "## DATA PREPROCESSING\n",
    "- ` Let's drop unnessesary columns`\n",
    "- `Aggregate features from users actions - Dim_user_selections `\n",
    "` \n",
    "- `And check the balance in data regarding the target retention`\n",
    "- `Apply sampling techniques if needed`"
   ]
  },
  {
   "cell_type": "code",
   "execution_count": 372,
   "id": "b4c74841",
   "metadata": {},
   "outputs": [],
   "source": [
    "def plot_corr(data):\n",
    "    data_corr = data.corr('kendall')\n",
    "    mask = np.zeros_like(data_corr, dtype=bool)\n",
    "    mask[np.triu_indices_from(mask)] = True\n",
    "    data_corr[mask] = np.nan\n",
    "    return (data_corr.style.\\\n",
    "            background_gradient(cmap='coolwarm', axis=None, vmin=-1, vmax=1).\\\n",
    "            highlight_null(null_color='#f1f1f1'))"
   ]
  },
  {
   "cell_type": "code",
   "execution_count": 373,
   "id": "e13e9c76",
   "metadata": {},
   "outputs": [],
   "source": [
    "def check_types(data):\n",
    "    cols = ['wizard_teams', 'wizard_leagues', 'lang_id', 'country_id', \\\n",
    "    'media_source' , 'device_type', 'os_version', 'campaign_name', 'is_finished_wizard', \\\n",
    "    'device_model', 'is_google_connect', 'is_facebook_connect', 'retention', \\\n",
    "            'user_country', 'user_language', 'favorite', 'region_name', 'entity_id',\\\n",
    "            'app_version', 'churn']\n",
    "    for i in cols:\n",
    "        if data[i].dtype == 'object':\n",
    "            data[i] = data[i].astype('category').cat.codes\n",
    "    return data[cols]"
   ]
  },
  {
   "cell_type": "code",
   "execution_count": 374,
   "id": "a254f428",
   "metadata": {},
   "outputs": [
    {
     "name": "stderr",
     "output_type": "stream",
     "text": [
      "/Users/m.shark/anaconda3/lib/python3.9/site-packages/scipy/stats/stats.py:4812: RuntimeWarning: overflow encountered in long_scalars\n",
      "  (2 * xtie * ytie) / m + x0 * y0 / (9 * m * (size - 2)))\n"
     ]
    },
    {
     "data": {
      "text/html": [
       "<style type=\"text/css\">\n",
       "#T_b7ed4_row0_col0, #T_b7ed4_row0_col1, #T_b7ed4_row0_col2, #T_b7ed4_row0_col3, #T_b7ed4_row0_col4, #T_b7ed4_row0_col5, #T_b7ed4_row0_col6, #T_b7ed4_row0_col7, #T_b7ed4_row0_col8, #T_b7ed4_row0_col9, #T_b7ed4_row0_col10, #T_b7ed4_row0_col11, #T_b7ed4_row0_col12, #T_b7ed4_row0_col13, #T_b7ed4_row0_col14, #T_b7ed4_row0_col15, #T_b7ed4_row0_col16, #T_b7ed4_row0_col17, #T_b7ed4_row0_col18, #T_b7ed4_row0_col19, #T_b7ed4_row1_col1, #T_b7ed4_row1_col2, #T_b7ed4_row1_col3, #T_b7ed4_row1_col4, #T_b7ed4_row1_col5, #T_b7ed4_row1_col6, #T_b7ed4_row1_col7, #T_b7ed4_row1_col8, #T_b7ed4_row1_col9, #T_b7ed4_row1_col10, #T_b7ed4_row1_col11, #T_b7ed4_row1_col12, #T_b7ed4_row1_col13, #T_b7ed4_row1_col14, #T_b7ed4_row1_col15, #T_b7ed4_row1_col16, #T_b7ed4_row1_col17, #T_b7ed4_row1_col18, #T_b7ed4_row1_col19, #T_b7ed4_row2_col2, #T_b7ed4_row2_col3, #T_b7ed4_row2_col4, #T_b7ed4_row2_col5, #T_b7ed4_row2_col6, #T_b7ed4_row2_col7, #T_b7ed4_row2_col8, #T_b7ed4_row2_col9, #T_b7ed4_row2_col10, #T_b7ed4_row2_col11, #T_b7ed4_row2_col12, #T_b7ed4_row2_col13, #T_b7ed4_row2_col14, #T_b7ed4_row2_col15, #T_b7ed4_row2_col16, #T_b7ed4_row2_col17, #T_b7ed4_row2_col18, #T_b7ed4_row2_col19, #T_b7ed4_row3_col3, #T_b7ed4_row3_col4, #T_b7ed4_row3_col5, #T_b7ed4_row3_col6, #T_b7ed4_row3_col7, #T_b7ed4_row3_col8, #T_b7ed4_row3_col9, #T_b7ed4_row3_col10, #T_b7ed4_row3_col11, #T_b7ed4_row3_col12, #T_b7ed4_row3_col13, #T_b7ed4_row3_col14, #T_b7ed4_row3_col15, #T_b7ed4_row3_col16, #T_b7ed4_row3_col17, #T_b7ed4_row3_col18, #T_b7ed4_row3_col19, #T_b7ed4_row4_col4, #T_b7ed4_row4_col5, #T_b7ed4_row4_col6, #T_b7ed4_row4_col7, #T_b7ed4_row4_col8, #T_b7ed4_row4_col9, #T_b7ed4_row4_col10, #T_b7ed4_row4_col11, #T_b7ed4_row4_col12, #T_b7ed4_row4_col13, #T_b7ed4_row4_col14, #T_b7ed4_row4_col15, #T_b7ed4_row4_col16, #T_b7ed4_row4_col17, #T_b7ed4_row4_col18, #T_b7ed4_row4_col19, #T_b7ed4_row5_col5, #T_b7ed4_row5_col6, #T_b7ed4_row5_col7, #T_b7ed4_row5_col8, #T_b7ed4_row5_col9, #T_b7ed4_row5_col10, #T_b7ed4_row5_col11, #T_b7ed4_row5_col12, #T_b7ed4_row5_col13, #T_b7ed4_row5_col14, #T_b7ed4_row5_col15, #T_b7ed4_row5_col16, #T_b7ed4_row5_col17, #T_b7ed4_row5_col18, #T_b7ed4_row5_col19, #T_b7ed4_row6_col6, #T_b7ed4_row6_col7, #T_b7ed4_row6_col8, #T_b7ed4_row6_col9, #T_b7ed4_row6_col10, #T_b7ed4_row6_col11, #T_b7ed4_row6_col12, #T_b7ed4_row6_col13, #T_b7ed4_row6_col14, #T_b7ed4_row6_col15, #T_b7ed4_row6_col16, #T_b7ed4_row6_col17, #T_b7ed4_row6_col18, #T_b7ed4_row6_col19, #T_b7ed4_row7_col7, #T_b7ed4_row7_col8, #T_b7ed4_row7_col9, #T_b7ed4_row7_col10, #T_b7ed4_row7_col11, #T_b7ed4_row7_col12, #T_b7ed4_row7_col13, #T_b7ed4_row7_col14, #T_b7ed4_row7_col15, #T_b7ed4_row7_col16, #T_b7ed4_row7_col17, #T_b7ed4_row7_col18, #T_b7ed4_row7_col19, #T_b7ed4_row8_col8, #T_b7ed4_row8_col9, #T_b7ed4_row8_col10, #T_b7ed4_row8_col11, #T_b7ed4_row8_col12, #T_b7ed4_row8_col13, #T_b7ed4_row8_col14, #T_b7ed4_row8_col15, #T_b7ed4_row8_col16, #T_b7ed4_row8_col17, #T_b7ed4_row8_col18, #T_b7ed4_row8_col19, #T_b7ed4_row9_col9, #T_b7ed4_row9_col10, #T_b7ed4_row9_col11, #T_b7ed4_row9_col12, #T_b7ed4_row9_col13, #T_b7ed4_row9_col14, #T_b7ed4_row9_col15, #T_b7ed4_row9_col16, #T_b7ed4_row9_col17, #T_b7ed4_row9_col18, #T_b7ed4_row9_col19, #T_b7ed4_row10_col10, #T_b7ed4_row10_col11, #T_b7ed4_row10_col12, #T_b7ed4_row10_col13, #T_b7ed4_row10_col14, #T_b7ed4_row10_col15, #T_b7ed4_row10_col16, #T_b7ed4_row10_col17, #T_b7ed4_row10_col18, #T_b7ed4_row10_col19, #T_b7ed4_row11_col11, #T_b7ed4_row11_col12, #T_b7ed4_row11_col13, #T_b7ed4_row11_col14, #T_b7ed4_row11_col15, #T_b7ed4_row11_col16, #T_b7ed4_row11_col17, #T_b7ed4_row11_col18, #T_b7ed4_row11_col19, #T_b7ed4_row12_col12, #T_b7ed4_row12_col13, #T_b7ed4_row12_col14, #T_b7ed4_row12_col15, #T_b7ed4_row12_col16, #T_b7ed4_row12_col17, #T_b7ed4_row12_col18, #T_b7ed4_row12_col19, #T_b7ed4_row13_col13, #T_b7ed4_row13_col14, #T_b7ed4_row13_col15, #T_b7ed4_row13_col16, #T_b7ed4_row13_col17, #T_b7ed4_row13_col18, #T_b7ed4_row13_col19, #T_b7ed4_row14_col14, #T_b7ed4_row14_col15, #T_b7ed4_row14_col16, #T_b7ed4_row14_col17, #T_b7ed4_row14_col18, #T_b7ed4_row14_col19, #T_b7ed4_row15_col15, #T_b7ed4_row15_col16, #T_b7ed4_row15_col17, #T_b7ed4_row15_col18, #T_b7ed4_row15_col19, #T_b7ed4_row16_col16, #T_b7ed4_row16_col17, #T_b7ed4_row16_col18, #T_b7ed4_row16_col19, #T_b7ed4_row17_col17, #T_b7ed4_row17_col18, #T_b7ed4_row17_col19, #T_b7ed4_row18_col18, #T_b7ed4_row18_col19, #T_b7ed4_row19_col0, #T_b7ed4_row19_col1, #T_b7ed4_row19_col19 {\n",
       "  background-color: #000000;\n",
       "  color: #f1f1f1;\n",
       "  background-color: #f1f1f1;\n",
       "}\n",
       "#T_b7ed4_row1_col0 {\n",
       "  background-color: #e46e56;\n",
       "  color: #f1f1f1;\n",
       "}\n",
       "#T_b7ed4_row2_col0, #T_b7ed4_row5_col4 {\n",
       "  background-color: #cdd9ec;\n",
       "  color: #000000;\n",
       "}\n",
       "#T_b7ed4_row2_col1, #T_b7ed4_row4_col1, #T_b7ed4_row7_col3 {\n",
       "  background-color: #d4dbe6;\n",
       "  color: #000000;\n",
       "}\n",
       "#T_b7ed4_row3_col0 {\n",
       "  background-color: #ebd3c6;\n",
       "  color: #000000;\n",
       "}\n",
       "#T_b7ed4_row3_col1, #T_b7ed4_row10_col5 {\n",
       "  background-color: #ead5c9;\n",
       "  color: #000000;\n",
       "}\n",
       "#T_b7ed4_row3_col2, #T_b7ed4_row10_col2 {\n",
       "  background-color: #f5c4ac;\n",
       "  color: #000000;\n",
       "}\n",
       "#T_b7ed4_row4_col0 {\n",
       "  background-color: #d3dbe7;\n",
       "  color: #000000;\n",
       "}\n",
       "#T_b7ed4_row4_col2 {\n",
       "  background-color: #f5c0a7;\n",
       "  color: #000000;\n",
       "}\n",
       "#T_b7ed4_row4_col3, #T_b7ed4_row6_col1, #T_b7ed4_row15_col4, #T_b7ed4_row15_col8, #T_b7ed4_row15_col12, #T_b7ed4_row17_col5 {\n",
       "  background-color: #dddcdc;\n",
       "  color: #000000;\n",
       "}\n",
       "#T_b7ed4_row5_col0, #T_b7ed4_row8_col0, #T_b7ed4_row10_col4, #T_b7ed4_row12_col4 {\n",
       "  background-color: #e6d7cf;\n",
       "  color: #000000;\n",
       "}\n",
       "#T_b7ed4_row5_col1, #T_b7ed4_row10_col7, #T_b7ed4_row12_col0, #T_b7ed4_row13_col0 {\n",
       "  background-color: #e4d9d2;\n",
       "  color: #000000;\n",
       "}\n",
       "#T_b7ed4_row5_col2 {\n",
       "  background-color: #f7b194;\n",
       "  color: #000000;\n",
       "}\n",
       "#T_b7ed4_row5_col3 {\n",
       "  background-color: #f7b79b;\n",
       "  color: #000000;\n",
       "}\n",
       "#T_b7ed4_row6_col0, #T_b7ed4_row14_col1, #T_b7ed4_row14_col4, #T_b7ed4_row15_col6, #T_b7ed4_row15_col9, #T_b7ed4_row17_col6, #T_b7ed4_row18_col15 {\n",
       "  background-color: #dedcdb;\n",
       "  color: #000000;\n",
       "}\n",
       "#T_b7ed4_row6_col2, #T_b7ed4_row8_col4, #T_b7ed4_row16_col10 {\n",
       "  background-color: #f1ccb8;\n",
       "  color: #000000;\n",
       "}\n",
       "#T_b7ed4_row6_col3 {\n",
       "  background-color: #f1cdba;\n",
       "  color: #000000;\n",
       "}\n",
       "#T_b7ed4_row6_col4, #T_b7ed4_row9_col1, #T_b7ed4_row13_col4, #T_b7ed4_row15_col1, #T_b7ed4_row15_col14 {\n",
       "  background-color: #d6dce4;\n",
       "  color: #000000;\n",
       "}\n",
       "#T_b7ed4_row6_col5 {\n",
       "  background-color: #f5a081;\n",
       "  color: #000000;\n",
       "}\n",
       "#T_b7ed4_row7_col0 {\n",
       "  background-color: #c6d6f1;\n",
       "  color: #000000;\n",
       "}\n",
       "#T_b7ed4_row7_col1 {\n",
       "  background-color: #c9d7f0;\n",
       "  color: #000000;\n",
       "}\n",
       "#T_b7ed4_row7_col2, #T_b7ed4_row13_col2 {\n",
       "  background-color: #f6bea4;\n",
       "  color: #000000;\n",
       "}\n",
       "#T_b7ed4_row7_col4 {\n",
       "  background-color: #dc5d4a;\n",
       "  color: #f1f1f1;\n",
       "}\n",
       "#T_b7ed4_row7_col5 {\n",
       "  background-color: #c3d5f4;\n",
       "  color: #000000;\n",
       "}\n",
       "#T_b7ed4_row7_col6, #T_b7ed4_row9_col4 {\n",
       "  background-color: #d1dae9;\n",
       "  color: #000000;\n",
       "}\n",
       "#T_b7ed4_row8_col1, #T_b7ed4_row10_col6, #T_b7ed4_row16_col0, #T_b7ed4_row16_col1 {\n",
       "  background-color: #e5d8d1;\n",
       "  color: #000000;\n",
       "}\n",
       "#T_b7ed4_row8_col2 {\n",
       "  background-color: #e67259;\n",
       "  color: #f1f1f1;\n",
       "}\n",
       "#T_b7ed4_row8_col3 {\n",
       "  background-color: #f59d7e;\n",
       "  color: #000000;\n",
       "}\n",
       "#T_b7ed4_row8_col5 {\n",
       "  background-color: #ed8366;\n",
       "  color: #f1f1f1;\n",
       "}\n",
       "#T_b7ed4_row8_col6, #T_b7ed4_row18_col6 {\n",
       "  background-color: #f7ba9f;\n",
       "  color: #000000;\n",
       "}\n",
       "#T_b7ed4_row8_col7, #T_b7ed4_row10_col1 {\n",
       "  background-color: #eed0c0;\n",
       "  color: #000000;\n",
       "}\n",
       "#T_b7ed4_row9_col0, #T_b7ed4_row13_col7, #T_b7ed4_row18_col4, #T_b7ed4_row18_col7 {\n",
       "  background-color: #d5dbe5;\n",
       "  color: #000000;\n",
       "}\n",
       "#T_b7ed4_row9_col2 {\n",
       "  background-color: #a5c3fe;\n",
       "  color: #000000;\n",
       "}\n",
       "#T_b7ed4_row9_col3, #T_b7ed4_row9_col5, #T_b7ed4_row19_col6 {\n",
       "  background-color: #aec9fc;\n",
       "  color: #000000;\n",
       "}\n",
       "#T_b7ed4_row9_col6 {\n",
       "  background-color: #bed2f6;\n",
       "  color: #000000;\n",
       "}\n",
       "#T_b7ed4_row9_col7, #T_b7ed4_row15_col2, #T_b7ed4_row16_col15, #T_b7ed4_row17_col16 {\n",
       "  background-color: #d9dce1;\n",
       "  color: #000000;\n",
       "}\n",
       "#T_b7ed4_row9_col8, #T_b7ed4_row19_col13, #T_b7ed4_row19_col18 {\n",
       "  background-color: #85a8fc;\n",
       "  color: #f1f1f1;\n",
       "}\n",
       "#T_b7ed4_row10_col0, #T_b7ed4_row13_col11 {\n",
       "  background-color: #edd1c2;\n",
       "  color: #000000;\n",
       "}\n",
       "#T_b7ed4_row10_col3, #T_b7ed4_row11_col3 {\n",
       "  background-color: #edd2c3;\n",
       "  color: #000000;\n",
       "}\n",
       "#T_b7ed4_row10_col8 {\n",
       "  background-color: #f7bca1;\n",
       "  color: #000000;\n",
       "}\n",
       "#T_b7ed4_row10_col9 {\n",
       "  background-color: #c0d4f5;\n",
       "  color: #000000;\n",
       "}\n",
       "#T_b7ed4_row11_col0, #T_b7ed4_row12_col1, #T_b7ed4_row12_col7, #T_b7ed4_row15_col13, #T_b7ed4_row18_col0 {\n",
       "  background-color: #e2dad5;\n",
       "  color: #000000;\n",
       "}\n",
       "#T_b7ed4_row11_col1, #T_b7ed4_row13_col1, #T_b7ed4_row18_col1 {\n",
       "  background-color: #e1dad6;\n",
       "  color: #000000;\n",
       "}\n",
       "#T_b7ed4_row11_col2 {\n",
       "  background-color: #ead4c8;\n",
       "  color: #000000;\n",
       "}\n",
       "#T_b7ed4_row11_col4, #T_b7ed4_row16_col4, #T_b7ed4_row16_col7, #T_b7ed4_row17_col4, #T_b7ed4_row17_col7, #T_b7ed4_row19_col17 {\n",
       "  background-color: #dadce0;\n",
       "  color: #000000;\n",
       "}\n",
       "#T_b7ed4_row11_col5, #T_b7ed4_row14_col11 {\n",
       "  background-color: #ecd3c5;\n",
       "  color: #000000;\n",
       "}\n",
       "#T_b7ed4_row11_col6, #T_b7ed4_row17_col14 {\n",
       "  background-color: #e8d6cc;\n",
       "  color: #000000;\n",
       "}\n",
       "#T_b7ed4_row11_col7, #T_b7ed4_row17_col13, #T_b7ed4_row17_col15 {\n",
       "  background-color: #d8dce2;\n",
       "  color: #000000;\n",
       "}\n",
       "#T_b7ed4_row11_col8, #T_b7ed4_row13_col10, #T_b7ed4_row16_col11 {\n",
       "  background-color: #efcebd;\n",
       "  color: #000000;\n",
       "}\n",
       "#T_b7ed4_row11_col9 {\n",
       "  background-color: #c7d7f0;\n",
       "  color: #000000;\n",
       "}\n",
       "#T_b7ed4_row11_col10, #T_b7ed4_row17_col2 {\n",
       "  background-color: #e3d9d3;\n",
       "  color: #000000;\n",
       "}\n",
       "#T_b7ed4_row12_col2 {\n",
       "  background-color: #f6a283;\n",
       "  color: #000000;\n",
       "}\n",
       "#T_b7ed4_row12_col3, #T_b7ed4_row16_col5 {\n",
       "  background-color: #f7ad90;\n",
       "  color: #000000;\n",
       "}\n",
       "#T_b7ed4_row12_col5, #T_b7ed4_row13_col12, #T_b7ed4_row19_col9 {\n",
       "  background-color: #f18f71;\n",
       "  color: #f1f1f1;\n",
       "}\n",
       "#T_b7ed4_row12_col6 {\n",
       "  background-color: #f7b99e;\n",
       "  color: #000000;\n",
       "}\n",
       "#T_b7ed4_row12_col8 {\n",
       "  background-color: #e0654f;\n",
       "  color: #f1f1f1;\n",
       "}\n",
       "#T_b7ed4_row12_col9 {\n",
       "  background-color: #8badfd;\n",
       "  color: #000000;\n",
       "}\n",
       "#T_b7ed4_row12_col10, #T_b7ed4_row13_col6 {\n",
       "  background-color: #f4c5ad;\n",
       "  color: #000000;\n",
       "}\n",
       "#T_b7ed4_row12_col11 {\n",
       "  background-color: #f2cab5;\n",
       "  color: #000000;\n",
       "}\n",
       "#T_b7ed4_row13_col3, #T_b7ed4_row18_col2 {\n",
       "  background-color: #f7b599;\n",
       "  color: #000000;\n",
       "}\n",
       "#T_b7ed4_row13_col5 {\n",
       "  background-color: #f6a385;\n",
       "  color: #000000;\n",
       "}\n",
       "#T_b7ed4_row13_col8, #T_b7ed4_row16_col8, #T_b7ed4_row18_col8 {\n",
       "  background-color: #f18d6f;\n",
       "  color: #f1f1f1;\n",
       "}\n",
       "#T_b7ed4_row13_col9, #T_b7ed4_row14_col9 {\n",
       "  background-color: #a3c2fe;\n",
       "  color: #000000;\n",
       "}\n",
       "#T_b7ed4_row14_col0, #T_b7ed4_row15_col7, #T_b7ed4_row19_col15 {\n",
       "  background-color: #dcdddd;\n",
       "  color: #000000;\n",
       "}\n",
       "#T_b7ed4_row14_col2 {\n",
       "  background-color: #f7a889;\n",
       "  color: #000000;\n",
       "}\n",
       "#T_b7ed4_row14_col3 {\n",
       "  background-color: #f4c6af;\n",
       "  color: #000000;\n",
       "}\n",
       "#T_b7ed4_row14_col5 {\n",
       "  background-color: #f7aa8c;\n",
       "  color: #000000;\n",
       "}\n",
       "#T_b7ed4_row14_col6 {\n",
       "  background-color: #f3c7b1;\n",
       "  color: #000000;\n",
       "}\n",
       "#T_b7ed4_row14_col7, #T_b7ed4_row15_col0, #T_b7ed4_row17_col8, #T_b7ed4_row17_col11, #T_b7ed4_row18_col17 {\n",
       "  background-color: #dfdbd9;\n",
       "  color: #000000;\n",
       "}\n",
       "#T_b7ed4_row14_col8 {\n",
       "  background-color: #f08b6e;\n",
       "  color: #f1f1f1;\n",
       "}\n",
       "#T_b7ed4_row14_col10 {\n",
       "  background-color: #f2c9b4;\n",
       "  color: #000000;\n",
       "}\n",
       "#T_b7ed4_row14_col12 {\n",
       "  background-color: #f39778;\n",
       "  color: #000000;\n",
       "}\n",
       "#T_b7ed4_row14_col13 {\n",
       "  background-color: #e36b54;\n",
       "  color: #f1f1f1;\n",
       "}\n",
       "#T_b7ed4_row15_col3, #T_b7ed4_row15_col5, #T_b7ed4_row17_col10, #T_b7ed4_row17_col12 {\n",
       "  background-color: #e0dbd8;\n",
       "  color: #000000;\n",
       "}\n",
       "#T_b7ed4_row15_col10, #T_b7ed4_row15_col11, #T_b7ed4_row17_col9 {\n",
       "  background-color: #dbdcde;\n",
       "  color: #000000;\n",
       "}\n",
       "#T_b7ed4_row16_col2 {\n",
       "  background-color: #f7b396;\n",
       "  color: #000000;\n",
       "}\n",
       "#T_b7ed4_row16_col3 {\n",
       "  background-color: #f7b497;\n",
       "  color: #000000;\n",
       "}\n",
       "#T_b7ed4_row16_col6 {\n",
       "  background-color: #f3c8b2;\n",
       "  color: #000000;\n",
       "}\n",
       "#T_b7ed4_row16_col9 {\n",
       "  background-color: #a1c0ff;\n",
       "  color: #000000;\n",
       "}\n",
       "#T_b7ed4_row16_col12 {\n",
       "  background-color: #f39577;\n",
       "  color: #000000;\n",
       "}\n",
       "#T_b7ed4_row16_col13 {\n",
       "  background-color: #df634e;\n",
       "  color: #f1f1f1;\n",
       "}\n",
       "#T_b7ed4_row16_col14, #T_b7ed4_row18_col13 {\n",
       "  background-color: #d75445;\n",
       "  color: #f1f1f1;\n",
       "}\n",
       "#T_b7ed4_row17_col0, #T_b7ed4_row17_col1 {\n",
       "  background-color: #d2dbe8;\n",
       "  color: #000000;\n",
       "}\n",
       "#T_b7ed4_row17_col3 {\n",
       "  background-color: #d7dce3;\n",
       "  color: #000000;\n",
       "}\n",
       "#T_b7ed4_row18_col3 {\n",
       "  background-color: #f6bda2;\n",
       "  color: #000000;\n",
       "}\n",
       "#T_b7ed4_row18_col5 {\n",
       "  background-color: #f29072;\n",
       "  color: #f1f1f1;\n",
       "}\n",
       "#T_b7ed4_row18_col9 {\n",
       "  background-color: #a6c4fe;\n",
       "  color: #000000;\n",
       "}\n",
       "#T_b7ed4_row18_col10, #T_b7ed4_row18_col11 {\n",
       "  background-color: #f0cdbb;\n",
       "  color: #000000;\n",
       "}\n",
       "#T_b7ed4_row18_col12 {\n",
       "  background-color: #ec8165;\n",
       "  color: #f1f1f1;\n",
       "}\n",
       "#T_b7ed4_row18_col14 {\n",
       "  background-color: #da5a49;\n",
       "  color: #f1f1f1;\n",
       "}\n",
       "#T_b7ed4_row18_col16 {\n",
       "  background-color: #de614d;\n",
       "  color: #f1f1f1;\n",
       "}\n",
       "#T_b7ed4_row19_col2 {\n",
       "  background-color: #6c8ff1;\n",
       "  color: #f1f1f1;\n",
       "}\n",
       "#T_b7ed4_row19_col3 {\n",
       "  background-color: #90b2fe;\n",
       "  color: #000000;\n",
       "}\n",
       "#T_b7ed4_row19_col4 {\n",
       "  background-color: #bcd2f7;\n",
       "  color: #000000;\n",
       "}\n",
       "#T_b7ed4_row19_col5 {\n",
       "  background-color: #7a9df8;\n",
       "  color: #f1f1f1;\n",
       "}\n",
       "#T_b7ed4_row19_col7 {\n",
       "  background-color: #c4d5f3;\n",
       "  color: #000000;\n",
       "}\n",
       "#T_b7ed4_row19_col8 {\n",
       "  background-color: #3e51c5;\n",
       "  color: #f1f1f1;\n",
       "}\n",
       "#T_b7ed4_row19_col10 {\n",
       "  background-color: #afcafc;\n",
       "  color: #000000;\n",
       "}\n",
       "#T_b7ed4_row19_col11 {\n",
       "  background-color: #c5d6f2;\n",
       "  color: #000000;\n",
       "}\n",
       "#T_b7ed4_row19_col12 {\n",
       "  background-color: #6384eb;\n",
       "  color: #f1f1f1;\n",
       "}\n",
       "#T_b7ed4_row19_col14 {\n",
       "  background-color: #82a6fb;\n",
       "  color: #f1f1f1;\n",
       "}\n",
       "#T_b7ed4_row19_col16 {\n",
       "  background-color: #84a7fc;\n",
       "  color: #f1f1f1;\n",
       "}\n",
       "</style>\n",
       "<table id=\"T_b7ed4\">\n",
       "  <thead>\n",
       "    <tr>\n",
       "      <th class=\"blank level0\" >&nbsp;</th>\n",
       "      <th id=\"T_b7ed4_level0_col0\" class=\"col_heading level0 col0\" >wizard_teams</th>\n",
       "      <th id=\"T_b7ed4_level0_col1\" class=\"col_heading level0 col1\" >wizard_leagues</th>\n",
       "      <th id=\"T_b7ed4_level0_col2\" class=\"col_heading level0 col2\" >lang_id</th>\n",
       "      <th id=\"T_b7ed4_level0_col3\" class=\"col_heading level0 col3\" >country_id</th>\n",
       "      <th id=\"T_b7ed4_level0_col4\" class=\"col_heading level0 col4\" >media_source</th>\n",
       "      <th id=\"T_b7ed4_level0_col5\" class=\"col_heading level0 col5\" >device_type</th>\n",
       "      <th id=\"T_b7ed4_level0_col6\" class=\"col_heading level0 col6\" >os_version</th>\n",
       "      <th id=\"T_b7ed4_level0_col7\" class=\"col_heading level0 col7\" >campaign_name</th>\n",
       "      <th id=\"T_b7ed4_level0_col8\" class=\"col_heading level0 col8\" >is_finished_wizard</th>\n",
       "      <th id=\"T_b7ed4_level0_col9\" class=\"col_heading level0 col9\" >device_model</th>\n",
       "      <th id=\"T_b7ed4_level0_col10\" class=\"col_heading level0 col10\" >is_google_connect</th>\n",
       "      <th id=\"T_b7ed4_level0_col11\" class=\"col_heading level0 col11\" >is_facebook_connect</th>\n",
       "      <th id=\"T_b7ed4_level0_col12\" class=\"col_heading level0 col12\" >retention</th>\n",
       "      <th id=\"T_b7ed4_level0_col13\" class=\"col_heading level0 col13\" >user_country</th>\n",
       "      <th id=\"T_b7ed4_level0_col14\" class=\"col_heading level0 col14\" >user_language</th>\n",
       "      <th id=\"T_b7ed4_level0_col15\" class=\"col_heading level0 col15\" >favorite</th>\n",
       "      <th id=\"T_b7ed4_level0_col16\" class=\"col_heading level0 col16\" >region_name</th>\n",
       "      <th id=\"T_b7ed4_level0_col17\" class=\"col_heading level0 col17\" >entity_id</th>\n",
       "      <th id=\"T_b7ed4_level0_col18\" class=\"col_heading level0 col18\" >app_version</th>\n",
       "      <th id=\"T_b7ed4_level0_col19\" class=\"col_heading level0 col19\" >churn</th>\n",
       "    </tr>\n",
       "  </thead>\n",
       "  <tbody>\n",
       "    <tr>\n",
       "      <th id=\"T_b7ed4_level0_row0\" class=\"row_heading level0 row0\" >wizard_teams</th>\n",
       "      <td id=\"T_b7ed4_row0_col0\" class=\"data row0 col0\" >nan</td>\n",
       "      <td id=\"T_b7ed4_row0_col1\" class=\"data row0 col1\" >nan</td>\n",
       "      <td id=\"T_b7ed4_row0_col2\" class=\"data row0 col2\" >nan</td>\n",
       "      <td id=\"T_b7ed4_row0_col3\" class=\"data row0 col3\" >nan</td>\n",
       "      <td id=\"T_b7ed4_row0_col4\" class=\"data row0 col4\" >nan</td>\n",
       "      <td id=\"T_b7ed4_row0_col5\" class=\"data row0 col5\" >nan</td>\n",
       "      <td id=\"T_b7ed4_row0_col6\" class=\"data row0 col6\" >nan</td>\n",
       "      <td id=\"T_b7ed4_row0_col7\" class=\"data row0 col7\" >nan</td>\n",
       "      <td id=\"T_b7ed4_row0_col8\" class=\"data row0 col8\" >nan</td>\n",
       "      <td id=\"T_b7ed4_row0_col9\" class=\"data row0 col9\" >nan</td>\n",
       "      <td id=\"T_b7ed4_row0_col10\" class=\"data row0 col10\" >nan</td>\n",
       "      <td id=\"T_b7ed4_row0_col11\" class=\"data row0 col11\" >nan</td>\n",
       "      <td id=\"T_b7ed4_row0_col12\" class=\"data row0 col12\" >nan</td>\n",
       "      <td id=\"T_b7ed4_row0_col13\" class=\"data row0 col13\" >nan</td>\n",
       "      <td id=\"T_b7ed4_row0_col14\" class=\"data row0 col14\" >nan</td>\n",
       "      <td id=\"T_b7ed4_row0_col15\" class=\"data row0 col15\" >nan</td>\n",
       "      <td id=\"T_b7ed4_row0_col16\" class=\"data row0 col16\" >nan</td>\n",
       "      <td id=\"T_b7ed4_row0_col17\" class=\"data row0 col17\" >nan</td>\n",
       "      <td id=\"T_b7ed4_row0_col18\" class=\"data row0 col18\" >nan</td>\n",
       "      <td id=\"T_b7ed4_row0_col19\" class=\"data row0 col19\" >nan</td>\n",
       "    </tr>\n",
       "    <tr>\n",
       "      <th id=\"T_b7ed4_level0_row1\" class=\"row_heading level0 row1\" >wizard_leagues</th>\n",
       "      <td id=\"T_b7ed4_row1_col0\" class=\"data row1 col0\" >0.689243</td>\n",
       "      <td id=\"T_b7ed4_row1_col1\" class=\"data row1 col1\" >nan</td>\n",
       "      <td id=\"T_b7ed4_row1_col2\" class=\"data row1 col2\" >nan</td>\n",
       "      <td id=\"T_b7ed4_row1_col3\" class=\"data row1 col3\" >nan</td>\n",
       "      <td id=\"T_b7ed4_row1_col4\" class=\"data row1 col4\" >nan</td>\n",
       "      <td id=\"T_b7ed4_row1_col5\" class=\"data row1 col5\" >nan</td>\n",
       "      <td id=\"T_b7ed4_row1_col6\" class=\"data row1 col6\" >nan</td>\n",
       "      <td id=\"T_b7ed4_row1_col7\" class=\"data row1 col7\" >nan</td>\n",
       "      <td id=\"T_b7ed4_row1_col8\" class=\"data row1 col8\" >nan</td>\n",
       "      <td id=\"T_b7ed4_row1_col9\" class=\"data row1 col9\" >nan</td>\n",
       "      <td id=\"T_b7ed4_row1_col10\" class=\"data row1 col10\" >nan</td>\n",
       "      <td id=\"T_b7ed4_row1_col11\" class=\"data row1 col11\" >nan</td>\n",
       "      <td id=\"T_b7ed4_row1_col12\" class=\"data row1 col12\" >nan</td>\n",
       "      <td id=\"T_b7ed4_row1_col13\" class=\"data row1 col13\" >nan</td>\n",
       "      <td id=\"T_b7ed4_row1_col14\" class=\"data row1 col14\" >nan</td>\n",
       "      <td id=\"T_b7ed4_row1_col15\" class=\"data row1 col15\" >nan</td>\n",
       "      <td id=\"T_b7ed4_row1_col16\" class=\"data row1 col16\" >nan</td>\n",
       "      <td id=\"T_b7ed4_row1_col17\" class=\"data row1 col17\" >nan</td>\n",
       "      <td id=\"T_b7ed4_row1_col18\" class=\"data row1 col18\" >nan</td>\n",
       "      <td id=\"T_b7ed4_row1_col19\" class=\"data row1 col19\" >nan</td>\n",
       "    </tr>\n",
       "    <tr>\n",
       "      <th id=\"T_b7ed4_level0_row2\" class=\"row_heading level0 row2\" >lang_id</th>\n",
       "      <td id=\"T_b7ed4_row2_col0\" class=\"data row2 col0\" >-0.111684</td>\n",
       "      <td id=\"T_b7ed4_row2_col1\" class=\"data row2 col1\" >-0.068677</td>\n",
       "      <td id=\"T_b7ed4_row2_col2\" class=\"data row2 col2\" >nan</td>\n",
       "      <td id=\"T_b7ed4_row2_col3\" class=\"data row2 col3\" >nan</td>\n",
       "      <td id=\"T_b7ed4_row2_col4\" class=\"data row2 col4\" >nan</td>\n",
       "      <td id=\"T_b7ed4_row2_col5\" class=\"data row2 col5\" >nan</td>\n",
       "      <td id=\"T_b7ed4_row2_col6\" class=\"data row2 col6\" >nan</td>\n",
       "      <td id=\"T_b7ed4_row2_col7\" class=\"data row2 col7\" >nan</td>\n",
       "      <td id=\"T_b7ed4_row2_col8\" class=\"data row2 col8\" >nan</td>\n",
       "      <td id=\"T_b7ed4_row2_col9\" class=\"data row2 col9\" >nan</td>\n",
       "      <td id=\"T_b7ed4_row2_col10\" class=\"data row2 col10\" >nan</td>\n",
       "      <td id=\"T_b7ed4_row2_col11\" class=\"data row2 col11\" >nan</td>\n",
       "      <td id=\"T_b7ed4_row2_col12\" class=\"data row2 col12\" >nan</td>\n",
       "      <td id=\"T_b7ed4_row2_col13\" class=\"data row2 col13\" >nan</td>\n",
       "      <td id=\"T_b7ed4_row2_col14\" class=\"data row2 col14\" >nan</td>\n",
       "      <td id=\"T_b7ed4_row2_col15\" class=\"data row2 col15\" >nan</td>\n",
       "      <td id=\"T_b7ed4_row2_col16\" class=\"data row2 col16\" >nan</td>\n",
       "      <td id=\"T_b7ed4_row2_col17\" class=\"data row2 col17\" >nan</td>\n",
       "      <td id=\"T_b7ed4_row2_col18\" class=\"data row2 col18\" >nan</td>\n",
       "      <td id=\"T_b7ed4_row2_col19\" class=\"data row2 col19\" >nan</td>\n",
       "    </tr>\n",
       "    <tr>\n",
       "      <th id=\"T_b7ed4_level0_row3\" class=\"row_heading level0 row3\" >country_id</th>\n",
       "      <td id=\"T_b7ed4_row3_col0\" class=\"data row3 col0\" >0.119185</td>\n",
       "      <td id=\"T_b7ed4_row3_col1\" class=\"data row3 col1\" >0.107373</td>\n",
       "      <td id=\"T_b7ed4_row3_col2\" class=\"data row3 col2\" >0.254138</td>\n",
       "      <td id=\"T_b7ed4_row3_col3\" class=\"data row3 col3\" >nan</td>\n",
       "      <td id=\"T_b7ed4_row3_col4\" class=\"data row3 col4\" >nan</td>\n",
       "      <td id=\"T_b7ed4_row3_col5\" class=\"data row3 col5\" >nan</td>\n",
       "      <td id=\"T_b7ed4_row3_col6\" class=\"data row3 col6\" >nan</td>\n",
       "      <td id=\"T_b7ed4_row3_col7\" class=\"data row3 col7\" >nan</td>\n",
       "      <td id=\"T_b7ed4_row3_col8\" class=\"data row3 col8\" >nan</td>\n",
       "      <td id=\"T_b7ed4_row3_col9\" class=\"data row3 col9\" >nan</td>\n",
       "      <td id=\"T_b7ed4_row3_col10\" class=\"data row3 col10\" >nan</td>\n",
       "      <td id=\"T_b7ed4_row3_col11\" class=\"data row3 col11\" >nan</td>\n",
       "      <td id=\"T_b7ed4_row3_col12\" class=\"data row3 col12\" >nan</td>\n",
       "      <td id=\"T_b7ed4_row3_col13\" class=\"data row3 col13\" >nan</td>\n",
       "      <td id=\"T_b7ed4_row3_col14\" class=\"data row3 col14\" >nan</td>\n",
       "      <td id=\"T_b7ed4_row3_col15\" class=\"data row3 col15\" >nan</td>\n",
       "      <td id=\"T_b7ed4_row3_col16\" class=\"data row3 col16\" >nan</td>\n",
       "      <td id=\"T_b7ed4_row3_col17\" class=\"data row3 col17\" >nan</td>\n",
       "      <td id=\"T_b7ed4_row3_col18\" class=\"data row3 col18\" >nan</td>\n",
       "      <td id=\"T_b7ed4_row3_col19\" class=\"data row3 col19\" >nan</td>\n",
       "    </tr>\n",
       "    <tr>\n",
       "      <th id=\"T_b7ed4_level0_row4\" class=\"row_heading level0 row4\" >media_source</th>\n",
       "      <td id=\"T_b7ed4_row4_col0\" class=\"data row4 col0\" >-0.074061</td>\n",
       "      <td id=\"T_b7ed4_row4_col1\" class=\"data row4 col1\" >-0.070257</td>\n",
       "      <td id=\"T_b7ed4_row4_col2\" class=\"data row4 col2\" >0.278940</td>\n",
       "      <td id=\"T_b7ed4_row4_col3\" class=\"data row4 col3\" >0.000910</td>\n",
       "      <td id=\"T_b7ed4_row4_col4\" class=\"data row4 col4\" >nan</td>\n",
       "      <td id=\"T_b7ed4_row4_col5\" class=\"data row4 col5\" >nan</td>\n",
       "      <td id=\"T_b7ed4_row4_col6\" class=\"data row4 col6\" >nan</td>\n",
       "      <td id=\"T_b7ed4_row4_col7\" class=\"data row4 col7\" >nan</td>\n",
       "      <td id=\"T_b7ed4_row4_col8\" class=\"data row4 col8\" >nan</td>\n",
       "      <td id=\"T_b7ed4_row4_col9\" class=\"data row4 col9\" >nan</td>\n",
       "      <td id=\"T_b7ed4_row4_col10\" class=\"data row4 col10\" >nan</td>\n",
       "      <td id=\"T_b7ed4_row4_col11\" class=\"data row4 col11\" >nan</td>\n",
       "      <td id=\"T_b7ed4_row4_col12\" class=\"data row4 col12\" >nan</td>\n",
       "      <td id=\"T_b7ed4_row4_col13\" class=\"data row4 col13\" >nan</td>\n",
       "      <td id=\"T_b7ed4_row4_col14\" class=\"data row4 col14\" >nan</td>\n",
       "      <td id=\"T_b7ed4_row4_col15\" class=\"data row4 col15\" >nan</td>\n",
       "      <td id=\"T_b7ed4_row4_col16\" class=\"data row4 col16\" >nan</td>\n",
       "      <td id=\"T_b7ed4_row4_col17\" class=\"data row4 col17\" >nan</td>\n",
       "      <td id=\"T_b7ed4_row4_col18\" class=\"data row4 col18\" >nan</td>\n",
       "      <td id=\"T_b7ed4_row4_col19\" class=\"data row4 col19\" >nan</td>\n",
       "    </tr>\n",
       "    <tr>\n",
       "      <th id=\"T_b7ed4_level0_row5\" class=\"row_heading level0 row5\" >device_type</th>\n",
       "      <td id=\"T_b7ed4_row5_col0\" class=\"data row5 col0\" >0.074802</td>\n",
       "      <td id=\"T_b7ed4_row5_col1\" class=\"data row5 col1\" >0.057826</td>\n",
       "      <td id=\"T_b7ed4_row5_col2\" class=\"data row5 col2\" >0.372297</td>\n",
       "      <td id=\"T_b7ed4_row5_col3\" class=\"data row5 col3\" >0.341989</td>\n",
       "      <td id=\"T_b7ed4_row5_col4\" class=\"data row5 col4\" >-0.110470</td>\n",
       "      <td id=\"T_b7ed4_row5_col5\" class=\"data row5 col5\" >nan</td>\n",
       "      <td id=\"T_b7ed4_row5_col6\" class=\"data row5 col6\" >nan</td>\n",
       "      <td id=\"T_b7ed4_row5_col7\" class=\"data row5 col7\" >nan</td>\n",
       "      <td id=\"T_b7ed4_row5_col8\" class=\"data row5 col8\" >nan</td>\n",
       "      <td id=\"T_b7ed4_row5_col9\" class=\"data row5 col9\" >nan</td>\n",
       "      <td id=\"T_b7ed4_row5_col10\" class=\"data row5 col10\" >nan</td>\n",
       "      <td id=\"T_b7ed4_row5_col11\" class=\"data row5 col11\" >nan</td>\n",
       "      <td id=\"T_b7ed4_row5_col12\" class=\"data row5 col12\" >nan</td>\n",
       "      <td id=\"T_b7ed4_row5_col13\" class=\"data row5 col13\" >nan</td>\n",
       "      <td id=\"T_b7ed4_row5_col14\" class=\"data row5 col14\" >nan</td>\n",
       "      <td id=\"T_b7ed4_row5_col15\" class=\"data row5 col15\" >nan</td>\n",
       "      <td id=\"T_b7ed4_row5_col16\" class=\"data row5 col16\" >nan</td>\n",
       "      <td id=\"T_b7ed4_row5_col17\" class=\"data row5 col17\" >nan</td>\n",
       "      <td id=\"T_b7ed4_row5_col18\" class=\"data row5 col18\" >nan</td>\n",
       "      <td id=\"T_b7ed4_row5_col19\" class=\"data row5 col19\" >nan</td>\n",
       "    </tr>\n",
       "    <tr>\n",
       "      <th id=\"T_b7ed4_level0_row6\" class=\"row_heading level0 row6\" >os_version</th>\n",
       "      <td id=\"T_b7ed4_row6_col0\" class=\"data row6 col0\" >0.010639</td>\n",
       "      <td id=\"T_b7ed4_row6_col1\" class=\"data row6 col1\" >0.000665</td>\n",
       "      <td id=\"T_b7ed4_row6_col2\" class=\"data row6 col2\" >0.193935</td>\n",
       "      <td id=\"T_b7ed4_row6_col3\" class=\"data row6 col3\" >0.181210</td>\n",
       "      <td id=\"T_b7ed4_row6_col4\" class=\"data row6 col4\" >-0.052221</td>\n",
       "      <td id=\"T_b7ed4_row6_col5\" class=\"data row6 col5\" >0.463473</td>\n",
       "      <td id=\"T_b7ed4_row6_col6\" class=\"data row6 col6\" >nan</td>\n",
       "      <td id=\"T_b7ed4_row6_col7\" class=\"data row6 col7\" >nan</td>\n",
       "      <td id=\"T_b7ed4_row6_col8\" class=\"data row6 col8\" >nan</td>\n",
       "      <td id=\"T_b7ed4_row6_col9\" class=\"data row6 col9\" >nan</td>\n",
       "      <td id=\"T_b7ed4_row6_col10\" class=\"data row6 col10\" >nan</td>\n",
       "      <td id=\"T_b7ed4_row6_col11\" class=\"data row6 col11\" >nan</td>\n",
       "      <td id=\"T_b7ed4_row6_col12\" class=\"data row6 col12\" >nan</td>\n",
       "      <td id=\"T_b7ed4_row6_col13\" class=\"data row6 col13\" >nan</td>\n",
       "      <td id=\"T_b7ed4_row6_col14\" class=\"data row6 col14\" >nan</td>\n",
       "      <td id=\"T_b7ed4_row6_col15\" class=\"data row6 col15\" >nan</td>\n",
       "      <td id=\"T_b7ed4_row6_col16\" class=\"data row6 col16\" >nan</td>\n",
       "      <td id=\"T_b7ed4_row6_col17\" class=\"data row6 col17\" >nan</td>\n",
       "      <td id=\"T_b7ed4_row6_col18\" class=\"data row6 col18\" >nan</td>\n",
       "      <td id=\"T_b7ed4_row6_col19\" class=\"data row6 col19\" >nan</td>\n",
       "    </tr>\n",
       "    <tr>\n",
       "      <th id=\"T_b7ed4_level0_row7\" class=\"row_heading level0 row7\" >campaign_name</th>\n",
       "      <td id=\"T_b7ed4_row7_col0\" class=\"data row7 col0\" >-0.157378</td>\n",
       "      <td id=\"T_b7ed4_row7_col1\" class=\"data row7 col1\" >-0.147764</td>\n",
       "      <td id=\"T_b7ed4_row7_col2\" class=\"data row7 col2\" >0.296413</td>\n",
       "      <td id=\"T_b7ed4_row7_col3\" class=\"data row7 col3\" >-0.066382</td>\n",
       "      <td id=\"T_b7ed4_row7_col4\" class=\"data row7 col4\" >0.760060</td>\n",
       "      <td id=\"T_b7ed4_row7_col5\" class=\"data row7 col5\" >-0.182716</td>\n",
       "      <td id=\"T_b7ed4_row7_col6\" class=\"data row7 col6\" >-0.089962</td>\n",
       "      <td id=\"T_b7ed4_row7_col7\" class=\"data row7 col7\" >nan</td>\n",
       "      <td id=\"T_b7ed4_row7_col8\" class=\"data row7 col8\" >nan</td>\n",
       "      <td id=\"T_b7ed4_row7_col9\" class=\"data row7 col9\" >nan</td>\n",
       "      <td id=\"T_b7ed4_row7_col10\" class=\"data row7 col10\" >nan</td>\n",
       "      <td id=\"T_b7ed4_row7_col11\" class=\"data row7 col11\" >nan</td>\n",
       "      <td id=\"T_b7ed4_row7_col12\" class=\"data row7 col12\" >nan</td>\n",
       "      <td id=\"T_b7ed4_row7_col13\" class=\"data row7 col13\" >nan</td>\n",
       "      <td id=\"T_b7ed4_row7_col14\" class=\"data row7 col14\" >nan</td>\n",
       "      <td id=\"T_b7ed4_row7_col15\" class=\"data row7 col15\" >nan</td>\n",
       "      <td id=\"T_b7ed4_row7_col16\" class=\"data row7 col16\" >nan</td>\n",
       "      <td id=\"T_b7ed4_row7_col17\" class=\"data row7 col17\" >nan</td>\n",
       "      <td id=\"T_b7ed4_row7_col18\" class=\"data row7 col18\" >nan</td>\n",
       "      <td id=\"T_b7ed4_row7_col19\" class=\"data row7 col19\" >nan</td>\n",
       "    </tr>\n",
       "    <tr>\n",
       "      <th id=\"T_b7ed4_level0_row8\" class=\"row_heading level0 row8\" >is_finished_wizard</th>\n",
       "      <td id=\"T_b7ed4_row8_col0\" class=\"data row8 col0\" >0.070543</td>\n",
       "      <td id=\"T_b7ed4_row8_col1\" class=\"data row8 col1\" >0.068616</td>\n",
       "      <td id=\"T_b7ed4_row8_col2\" class=\"data row8 col2\" >0.673381</td>\n",
       "      <td id=\"T_b7ed4_row8_col3\" class=\"data row8 col3\" >0.479147</td>\n",
       "      <td id=\"T_b7ed4_row8_col4\" class=\"data row8 col4\" >0.195006</td>\n",
       "      <td id=\"T_b7ed4_row8_col5\" class=\"data row8 col5\" >0.607104</td>\n",
       "      <td id=\"T_b7ed4_row8_col6\" class=\"data row8 col6\" >0.313054</td>\n",
       "      <td id=\"T_b7ed4_row8_col7\" class=\"data row8 col7\" >0.152284</td>\n",
       "      <td id=\"T_b7ed4_row8_col8\" class=\"data row8 col8\" >nan</td>\n",
       "      <td id=\"T_b7ed4_row8_col9\" class=\"data row8 col9\" >nan</td>\n",
       "      <td id=\"T_b7ed4_row8_col10\" class=\"data row8 col10\" >nan</td>\n",
       "      <td id=\"T_b7ed4_row8_col11\" class=\"data row8 col11\" >nan</td>\n",
       "      <td id=\"T_b7ed4_row8_col12\" class=\"data row8 col12\" >nan</td>\n",
       "      <td id=\"T_b7ed4_row8_col13\" class=\"data row8 col13\" >nan</td>\n",
       "      <td id=\"T_b7ed4_row8_col14\" class=\"data row8 col14\" >nan</td>\n",
       "      <td id=\"T_b7ed4_row8_col15\" class=\"data row8 col15\" >nan</td>\n",
       "      <td id=\"T_b7ed4_row8_col16\" class=\"data row8 col16\" >nan</td>\n",
       "      <td id=\"T_b7ed4_row8_col17\" class=\"data row8 col17\" >nan</td>\n",
       "      <td id=\"T_b7ed4_row8_col18\" class=\"data row8 col18\" >nan</td>\n",
       "      <td id=\"T_b7ed4_row8_col19\" class=\"data row8 col19\" >nan</td>\n",
       "    </tr>\n",
       "    <tr>\n",
       "      <th id=\"T_b7ed4_level0_row9\" class=\"row_heading level0 row9\" >device_model</th>\n",
       "      <td id=\"T_b7ed4_row9_col0\" class=\"data row9 col0\" >-0.057279</td>\n",
       "      <td id=\"T_b7ed4_row9_col1\" class=\"data row9 col1\" >-0.051317</td>\n",
       "      <td id=\"T_b7ed4_row9_col2\" class=\"data row9 col2\" >-0.359636</td>\n",
       "      <td id=\"T_b7ed4_row9_col3\" class=\"data row9 col3\" >-0.312423</td>\n",
       "      <td id=\"T_b7ed4_row9_col4\" class=\"data row9 col4\" >-0.092018</td>\n",
       "      <td id=\"T_b7ed4_row9_col5\" class=\"data row9 col5\" >-0.312162</td>\n",
       "      <td id=\"T_b7ed4_row9_col6\" class=\"data row9 col6\" >-0.212617</td>\n",
       "      <td id=\"T_b7ed4_row9_col7\" class=\"data row9 col7\" >-0.029414</td>\n",
       "      <td id=\"T_b7ed4_row9_col8\" class=\"data row9 col8\" >-0.546800</td>\n",
       "      <td id=\"T_b7ed4_row9_col9\" class=\"data row9 col9\" >nan</td>\n",
       "      <td id=\"T_b7ed4_row9_col10\" class=\"data row9 col10\" >nan</td>\n",
       "      <td id=\"T_b7ed4_row9_col11\" class=\"data row9 col11\" >nan</td>\n",
       "      <td id=\"T_b7ed4_row9_col12\" class=\"data row9 col12\" >nan</td>\n",
       "      <td id=\"T_b7ed4_row9_col13\" class=\"data row9 col13\" >nan</td>\n",
       "      <td id=\"T_b7ed4_row9_col14\" class=\"data row9 col14\" >nan</td>\n",
       "      <td id=\"T_b7ed4_row9_col15\" class=\"data row9 col15\" >nan</td>\n",
       "      <td id=\"T_b7ed4_row9_col16\" class=\"data row9 col16\" >nan</td>\n",
       "      <td id=\"T_b7ed4_row9_col17\" class=\"data row9 col17\" >nan</td>\n",
       "      <td id=\"T_b7ed4_row9_col18\" class=\"data row9 col18\" >nan</td>\n",
       "      <td id=\"T_b7ed4_row9_col19\" class=\"data row9 col19\" >nan</td>\n",
       "    </tr>\n",
       "    <tr>\n",
       "      <th id=\"T_b7ed4_level0_row10\" class=\"row_heading level0 row10\" >is_google_connect</th>\n",
       "      <td id=\"T_b7ed4_row10_col0\" class=\"data row10 col0\" >0.145588</td>\n",
       "      <td id=\"T_b7ed4_row10_col1\" class=\"data row10 col1\" >0.149571</td>\n",
       "      <td id=\"T_b7ed4_row10_col2\" class=\"data row10 col2\" >0.251882</td>\n",
       "      <td id=\"T_b7ed4_row10_col3\" class=\"data row10 col3\" >0.133561</td>\n",
       "      <td id=\"T_b7ed4_row10_col4\" class=\"data row10 col4\" >0.074443</td>\n",
       "      <td id=\"T_b7ed4_row10_col5\" class=\"data row10 col5\" >0.104652</td>\n",
       "      <td id=\"T_b7ed4_row10_col6\" class=\"data row10 col6\" >0.069395</td>\n",
       "      <td id=\"T_b7ed4_row10_col7\" class=\"data row10 col7\" >0.057316</td>\n",
       "      <td id=\"T_b7ed4_row10_col8\" class=\"data row10 col8\" >0.306430</td>\n",
       "      <td id=\"T_b7ed4_row10_col9\" class=\"data row10 col9\" >-0.196338</td>\n",
       "      <td id=\"T_b7ed4_row10_col10\" class=\"data row10 col10\" >nan</td>\n",
       "      <td id=\"T_b7ed4_row10_col11\" class=\"data row10 col11\" >nan</td>\n",
       "      <td id=\"T_b7ed4_row10_col12\" class=\"data row10 col12\" >nan</td>\n",
       "      <td id=\"T_b7ed4_row10_col13\" class=\"data row10 col13\" >nan</td>\n",
       "      <td id=\"T_b7ed4_row10_col14\" class=\"data row10 col14\" >nan</td>\n",
       "      <td id=\"T_b7ed4_row10_col15\" class=\"data row10 col15\" >nan</td>\n",
       "      <td id=\"T_b7ed4_row10_col16\" class=\"data row10 col16\" >nan</td>\n",
       "      <td id=\"T_b7ed4_row10_col17\" class=\"data row10 col17\" >nan</td>\n",
       "      <td id=\"T_b7ed4_row10_col18\" class=\"data row10 col18\" >nan</td>\n",
       "      <td id=\"T_b7ed4_row10_col19\" class=\"data row10 col19\" >nan</td>\n",
       "    </tr>\n",
       "    <tr>\n",
       "      <th id=\"T_b7ed4_level0_row11\" class=\"row_heading level0 row11\" >is_facebook_connect</th>\n",
       "      <td id=\"T_b7ed4_row11_col0\" class=\"data row11 col0\" >0.044016</td>\n",
       "      <td id=\"T_b7ed4_row11_col1\" class=\"data row11 col1\" >0.036039</td>\n",
       "      <td id=\"T_b7ed4_row11_col2\" class=\"data row11 col2\" >0.110021</td>\n",
       "      <td id=\"T_b7ed4_row11_col3\" class=\"data row11 col3\" >0.136293</td>\n",
       "      <td id=\"T_b7ed4_row11_col4\" class=\"data row11 col4\" >-0.018075</td>\n",
       "      <td id=\"T_b7ed4_row11_col5\" class=\"data row11 col5\" >0.131404</td>\n",
       "      <td id=\"T_b7ed4_row11_col6\" class=\"data row11 col6\" >0.087760</td>\n",
       "      <td id=\"T_b7ed4_row11_col7\" class=\"data row11 col7\" >-0.036450</td>\n",
       "      <td id=\"T_b7ed4_row11_col8\" class=\"data row11 col8\" >0.169711</td>\n",
       "      <td id=\"T_b7ed4_row11_col9\" class=\"data row11 col9\" >-0.153661</td>\n",
       "      <td id=\"T_b7ed4_row11_col10\" class=\"data row11 col10\" >0.054627</td>\n",
       "      <td id=\"T_b7ed4_row11_col11\" class=\"data row11 col11\" >nan</td>\n",
       "      <td id=\"T_b7ed4_row11_col12\" class=\"data row11 col12\" >nan</td>\n",
       "      <td id=\"T_b7ed4_row11_col13\" class=\"data row11 col13\" >nan</td>\n",
       "      <td id=\"T_b7ed4_row11_col14\" class=\"data row11 col14\" >nan</td>\n",
       "      <td id=\"T_b7ed4_row11_col15\" class=\"data row11 col15\" >nan</td>\n",
       "      <td id=\"T_b7ed4_row11_col16\" class=\"data row11 col16\" >nan</td>\n",
       "      <td id=\"T_b7ed4_row11_col17\" class=\"data row11 col17\" >nan</td>\n",
       "      <td id=\"T_b7ed4_row11_col18\" class=\"data row11 col18\" >nan</td>\n",
       "      <td id=\"T_b7ed4_row11_col19\" class=\"data row11 col19\" >nan</td>\n",
       "    </tr>\n",
       "    <tr>\n",
       "      <th id=\"T_b7ed4_level0_row12\" class=\"row_heading level0 row12\" >retention</th>\n",
       "      <td id=\"T_b7ed4_row12_col0\" class=\"data row12 col0\" >0.057280</td>\n",
       "      <td id=\"T_b7ed4_row12_col1\" class=\"data row12 col1\" >0.042877</td>\n",
       "      <td id=\"T_b7ed4_row12_col2\" class=\"data row12 col2\" >0.454284</td>\n",
       "      <td id=\"T_b7ed4_row12_col3\" class=\"data row12 col3\" >0.397628</td>\n",
       "      <td id=\"T_b7ed4_row12_col4\" class=\"data row12 col4\" >0.077802</td>\n",
       "      <td id=\"T_b7ed4_row12_col5\" class=\"data row12 col5\" >0.550763</td>\n",
       "      <td id=\"T_b7ed4_row12_col6\" class=\"data row12 col6\" >0.323654</td>\n",
       "      <td id=\"T_b7ed4_row12_col7\" class=\"data row12 col7\" >0.041887</td>\n",
       "      <td id=\"T_b7ed4_row12_col8\" class=\"data row12 col8\" >0.729821</td>\n",
       "      <td id=\"T_b7ed4_row12_col9\" class=\"data row12 col9\" >-0.511064</td>\n",
       "      <td id=\"T_b7ed4_row12_col10\" class=\"data row12 col10\" >0.245233</td>\n",
       "      <td id=\"T_b7ed4_row12_col11\" class=\"data row12 col11\" >0.209742</td>\n",
       "      <td id=\"T_b7ed4_row12_col12\" class=\"data row12 col12\" >nan</td>\n",
       "      <td id=\"T_b7ed4_row12_col13\" class=\"data row12 col13\" >nan</td>\n",
       "      <td id=\"T_b7ed4_row12_col14\" class=\"data row12 col14\" >nan</td>\n",
       "      <td id=\"T_b7ed4_row12_col15\" class=\"data row12 col15\" >nan</td>\n",
       "      <td id=\"T_b7ed4_row12_col16\" class=\"data row12 col16\" >nan</td>\n",
       "      <td id=\"T_b7ed4_row12_col17\" class=\"data row12 col17\" >nan</td>\n",
       "      <td id=\"T_b7ed4_row12_col18\" class=\"data row12 col18\" >nan</td>\n",
       "      <td id=\"T_b7ed4_row12_col19\" class=\"data row12 col19\" >nan</td>\n",
       "    </tr>\n",
       "    <tr>\n",
       "      <th id=\"T_b7ed4_level0_row13\" class=\"row_heading level0 row13\" >user_country</th>\n",
       "      <td id=\"T_b7ed4_row13_col0\" class=\"data row13 col0\" >0.055535</td>\n",
       "      <td id=\"T_b7ed4_row13_col1\" class=\"data row13 col1\" >0.035617</td>\n",
       "      <td id=\"T_b7ed4_row13_col2\" class=\"data row13 col2\" >0.291262</td>\n",
       "      <td id=\"T_b7ed4_row13_col3\" class=\"data row13 col3\" >0.349348</td>\n",
       "      <td id=\"T_b7ed4_row13_col4\" class=\"data row13 col4\" >-0.050276</td>\n",
       "      <td id=\"T_b7ed4_row13_col5\" class=\"data row13 col5\" >0.452532</td>\n",
       "      <td id=\"T_b7ed4_row13_col6\" class=\"data row13 col6\" >0.247551</td>\n",
       "      <td id=\"T_b7ed4_row13_col7\" class=\"data row13 col7\" >-0.057932</td>\n",
       "      <td id=\"T_b7ed4_row13_col8\" class=\"data row13 col8\" >0.555423</td>\n",
       "      <td id=\"T_b7ed4_row13_col9\" class=\"data row13 col9\" >-0.368878</td>\n",
       "      <td id=\"T_b7ed4_row13_col10\" class=\"data row13 col10\" >0.171061</td>\n",
       "      <td id=\"T_b7ed4_row13_col11\" class=\"data row13 col11\" >0.143147</td>\n",
       "      <td id=\"T_b7ed4_row13_col12\" class=\"data row13 col12\" >0.548273</td>\n",
       "      <td id=\"T_b7ed4_row13_col13\" class=\"data row13 col13\" >nan</td>\n",
       "      <td id=\"T_b7ed4_row13_col14\" class=\"data row13 col14\" >nan</td>\n",
       "      <td id=\"T_b7ed4_row13_col15\" class=\"data row13 col15\" >nan</td>\n",
       "      <td id=\"T_b7ed4_row13_col16\" class=\"data row13 col16\" >nan</td>\n",
       "      <td id=\"T_b7ed4_row13_col17\" class=\"data row13 col17\" >nan</td>\n",
       "      <td id=\"T_b7ed4_row13_col18\" class=\"data row13 col18\" >nan</td>\n",
       "      <td id=\"T_b7ed4_row13_col19\" class=\"data row13 col19\" >nan</td>\n",
       "    </tr>\n",
       "    <tr>\n",
       "      <th id=\"T_b7ed4_level0_row14\" class=\"row_heading level0 row14\" >user_language</th>\n",
       "      <td id=\"T_b7ed4_row14_col0\" class=\"data row14 col0\" >-0.004536</td>\n",
       "      <td id=\"T_b7ed4_row14_col1\" class=\"data row14 col1\" >0.008888</td>\n",
       "      <td id=\"T_b7ed4_row14_col2\" class=\"data row14 col2\" >0.423346</td>\n",
       "      <td id=\"T_b7ed4_row14_col3\" class=\"data row14 col3\" >0.236957</td>\n",
       "      <td id=\"T_b7ed4_row14_col4\" class=\"data row14 col4\" >0.008431</td>\n",
       "      <td id=\"T_b7ed4_row14_col5\" class=\"data row14 col5\" >0.412450</td>\n",
       "      <td id=\"T_b7ed4_row14_col6\" class=\"data row14 col6\" >0.229286</td>\n",
       "      <td id=\"T_b7ed4_row14_col7\" class=\"data row14 col7\" >0.021924</td>\n",
       "      <td id=\"T_b7ed4_row14_col8\" class=\"data row14 col8\" >0.569408</td>\n",
       "      <td id=\"T_b7ed4_row14_col9\" class=\"data row14 col9\" >-0.369582</td>\n",
       "      <td id=\"T_b7ed4_row14_col10\" class=\"data row14 col10\" >0.216522</td>\n",
       "      <td id=\"T_b7ed4_row14_col11\" class=\"data row14 col11\" >0.127269</td>\n",
       "      <td id=\"T_b7ed4_row14_col12\" class=\"data row14 col12\" >0.515405</td>\n",
       "      <td id=\"T_b7ed4_row14_col13\" class=\"data row14 col13\" >0.708716</td>\n",
       "      <td id=\"T_b7ed4_row14_col14\" class=\"data row14 col14\" >nan</td>\n",
       "      <td id=\"T_b7ed4_row14_col15\" class=\"data row14 col15\" >nan</td>\n",
       "      <td id=\"T_b7ed4_row14_col16\" class=\"data row14 col16\" >nan</td>\n",
       "      <td id=\"T_b7ed4_row14_col17\" class=\"data row14 col17\" >nan</td>\n",
       "      <td id=\"T_b7ed4_row14_col18\" class=\"data row14 col18\" >nan</td>\n",
       "      <td id=\"T_b7ed4_row14_col19\" class=\"data row14 col19\" >nan</td>\n",
       "    </tr>\n",
       "    <tr>\n",
       "      <th id=\"T_b7ed4_level0_row15\" class=\"row_heading level0 row15\" >favorite</th>\n",
       "      <td id=\"T_b7ed4_row15_col0\" class=\"data row15 col0\" >0.019002</td>\n",
       "      <td id=\"T_b7ed4_row15_col1\" class=\"data row15 col1\" >-0.051867</td>\n",
       "      <td id=\"T_b7ed4_row15_col2\" class=\"data row15 col2\" >-0.026067</td>\n",
       "      <td id=\"T_b7ed4_row15_col3\" class=\"data row15 col3\" >0.026510</td>\n",
       "      <td id=\"T_b7ed4_row15_col4\" class=\"data row15 col4\" >0.003504</td>\n",
       "      <td id=\"T_b7ed4_row15_col5\" class=\"data row15 col5\" >0.029443</td>\n",
       "      <td id=\"T_b7ed4_row15_col6\" class=\"data row15 col6\" >0.009240</td>\n",
       "      <td id=\"T_b7ed4_row15_col7\" class=\"data row15 col7\" >-0.003657</td>\n",
       "      <td id=\"T_b7ed4_row15_col8\" class=\"data row15 col8\" >0.002546</td>\n",
       "      <td id=\"T_b7ed4_row15_col9\" class=\"data row15 col9\" >0.009812</td>\n",
       "      <td id=\"T_b7ed4_row15_col10\" class=\"data row15 col10\" >-0.015043</td>\n",
       "      <td id=\"T_b7ed4_row15_col11\" class=\"data row15 col11\" >-0.010436</td>\n",
       "      <td id=\"T_b7ed4_row15_col12\" class=\"data row15 col12\" >0.004161</td>\n",
       "      <td id=\"T_b7ed4_row15_col13\" class=\"data row15 col13\" >0.041563</td>\n",
       "      <td id=\"T_b7ed4_row15_col14\" class=\"data row15 col14\" >-0.049756</td>\n",
       "      <td id=\"T_b7ed4_row15_col15\" class=\"data row15 col15\" >nan</td>\n",
       "      <td id=\"T_b7ed4_row15_col16\" class=\"data row15 col16\" >nan</td>\n",
       "      <td id=\"T_b7ed4_row15_col17\" class=\"data row15 col17\" >nan</td>\n",
       "      <td id=\"T_b7ed4_row15_col18\" class=\"data row15 col18\" >nan</td>\n",
       "      <td id=\"T_b7ed4_row15_col19\" class=\"data row15 col19\" >nan</td>\n",
       "    </tr>\n",
       "    <tr>\n",
       "      <th id=\"T_b7ed4_level0_row16\" class=\"row_heading level0 row16\" >region_name</th>\n",
       "      <td id=\"T_b7ed4_row16_col0\" class=\"data row16 col0\" >0.066546</td>\n",
       "      <td id=\"T_b7ed4_row16_col1\" class=\"data row16 col1\" >0.067379</td>\n",
       "      <td id=\"T_b7ed4_row16_col2\" class=\"data row16 col2\" >0.359588</td>\n",
       "      <td id=\"T_b7ed4_row16_col3\" class=\"data row16 col3\" >0.354581</td>\n",
       "      <td id=\"T_b7ed4_row16_col4\" class=\"data row16 col4\" >-0.022328</td>\n",
       "      <td id=\"T_b7ed4_row16_col5\" class=\"data row16 col5\" >0.393477</td>\n",
       "      <td id=\"T_b7ed4_row16_col6\" class=\"data row16 col6\" >0.224231</td>\n",
       "      <td id=\"T_b7ed4_row16_col7\" class=\"data row16 col7\" >-0.020655</td>\n",
       "      <td id=\"T_b7ed4_row16_col8\" class=\"data row16 col8\" >0.562159</td>\n",
       "      <td id=\"T_b7ed4_row16_col9\" class=\"data row16 col9\" >-0.387210</td>\n",
       "      <td id=\"T_b7ed4_row16_col10\" class=\"data row16 col10\" >0.193597</td>\n",
       "      <td id=\"T_b7ed4_row16_col11\" class=\"data row16 col11\" >0.170353</td>\n",
       "      <td id=\"T_b7ed4_row16_col12\" class=\"data row16 col12\" >0.516337</td>\n",
       "      <td id=\"T_b7ed4_row16_col13\" class=\"data row16 col13\" >0.741494</td>\n",
       "      <td id=\"T_b7ed4_row16_col14\" class=\"data row16 col14\" >0.794365</td>\n",
       "      <td id=\"T_b7ed4_row16_col15\" class=\"data row16 col15\" >-0.030365</td>\n",
       "      <td id=\"T_b7ed4_row16_col16\" class=\"data row16 col16\" >nan</td>\n",
       "      <td id=\"T_b7ed4_row16_col17\" class=\"data row16 col17\" >nan</td>\n",
       "      <td id=\"T_b7ed4_row16_col18\" class=\"data row16 col18\" >nan</td>\n",
       "      <td id=\"T_b7ed4_row16_col19\" class=\"data row16 col19\" >nan</td>\n",
       "    </tr>\n",
       "    <tr>\n",
       "      <th id=\"T_b7ed4_level0_row17\" class=\"row_heading level0 row17\" >entity_id</th>\n",
       "      <td id=\"T_b7ed4_row17_col0\" class=\"data row17 col0\" >-0.079979</td>\n",
       "      <td id=\"T_b7ed4_row17_col1\" class=\"data row17 col1\" >-0.078545</td>\n",
       "      <td id=\"T_b7ed4_row17_col2\" class=\"data row17 col2\" >0.053596</td>\n",
       "      <td id=\"T_b7ed4_row17_col3\" class=\"data row17 col3\" >-0.044967</td>\n",
       "      <td id=\"T_b7ed4_row17_col4\" class=\"data row17 col4\" >-0.019002</td>\n",
       "      <td id=\"T_b7ed4_row17_col5\" class=\"data row17 col5\" >0.002678</td>\n",
       "      <td id=\"T_b7ed4_row17_col6\" class=\"data row17 col6\" >0.009750</td>\n",
       "      <td id=\"T_b7ed4_row17_col7\" class=\"data row17 col7\" >-0.017407</td>\n",
       "      <td id=\"T_b7ed4_row17_col8\" class=\"data row17 col8\" >0.020376</td>\n",
       "      <td id=\"T_b7ed4_row17_col9\" class=\"data row17 col9\" >-0.008649</td>\n",
       "      <td id=\"T_b7ed4_row17_col10\" class=\"data row17 col10\" >0.024310</td>\n",
       "      <td id=\"T_b7ed4_row17_col11\" class=\"data row17 col11\" >0.021121</td>\n",
       "      <td id=\"T_b7ed4_row17_col12\" class=\"data row17 col12\" >0.028777</td>\n",
       "      <td id=\"T_b7ed4_row17_col13\" class=\"data row17 col13\" >-0.034245</td>\n",
       "      <td id=\"T_b7ed4_row17_col14\" class=\"data row17 col14\" >0.093625</td>\n",
       "      <td id=\"T_b7ed4_row17_col15\" class=\"data row17 col15\" >-0.035677</td>\n",
       "      <td id=\"T_b7ed4_row17_col16\" class=\"data row17 col16\" >-0.026251</td>\n",
       "      <td id=\"T_b7ed4_row17_col17\" class=\"data row17 col17\" >nan</td>\n",
       "      <td id=\"T_b7ed4_row17_col18\" class=\"data row17 col18\" >nan</td>\n",
       "      <td id=\"T_b7ed4_row17_col19\" class=\"data row17 col19\" >nan</td>\n",
       "    </tr>\n",
       "    <tr>\n",
       "      <th id=\"T_b7ed4_level0_row18\" class=\"row_heading level0 row18\" >app_version</th>\n",
       "      <td id=\"T_b7ed4_row18_col0\" class=\"data row18 col0\" >0.045526</td>\n",
       "      <td id=\"T_b7ed4_row18_col1\" class=\"data row18 col1\" >0.033706</td>\n",
       "      <td id=\"T_b7ed4_row18_col2\" class=\"data row18 col2\" >0.345898</td>\n",
       "      <td id=\"T_b7ed4_row18_col3\" class=\"data row18 col3\" >0.303241</td>\n",
       "      <td id=\"T_b7ed4_row18_col4\" class=\"data row18 col4\" >-0.058716</td>\n",
       "      <td id=\"T_b7ed4_row18_col5\" class=\"data row18 col5\" >0.545661</td>\n",
       "      <td id=\"T_b7ed4_row18_col6\" class=\"data row18 col6\" >0.318170</td>\n",
       "      <td id=\"T_b7ed4_row18_col7\" class=\"data row18 col7\" >-0.060300</td>\n",
       "      <td id=\"T_b7ed4_row18_col8\" class=\"data row18 col8\" >0.557704</td>\n",
       "      <td id=\"T_b7ed4_row18_col9\" class=\"data row18 col9\" >-0.353031</td>\n",
       "      <td id=\"T_b7ed4_row18_col10\" class=\"data row18 col10\" >0.178677</td>\n",
       "      <td id=\"T_b7ed4_row18_col11\" class=\"data row18 col11\" >0.174421</td>\n",
       "      <td id=\"T_b7ed4_row18_col12\" class=\"data row18 col12\" >0.616777</td>\n",
       "      <td id=\"T_b7ed4_row18_col13\" class=\"data row18 col13\" >0.791609</td>\n",
       "      <td id=\"T_b7ed4_row18_col14\" class=\"data row18 col14\" >0.767492</td>\n",
       "      <td id=\"T_b7ed4_row18_col15\" class=\"data row18 col15\" >0.012597</td>\n",
       "      <td id=\"T_b7ed4_row18_col16\" class=\"data row18 col16\" >0.744613</td>\n",
       "      <td id=\"T_b7ed4_row18_col17\" class=\"data row18 col17\" >0.020517</td>\n",
       "      <td id=\"T_b7ed4_row18_col18\" class=\"data row18 col18\" >nan</td>\n",
       "      <td id=\"T_b7ed4_row18_col19\" class=\"data row18 col19\" >nan</td>\n",
       "    </tr>\n",
       "    <tr>\n",
       "      <th id=\"T_b7ed4_level0_row19\" class=\"row_heading level0 row19\" >churn</th>\n",
       "      <td id=\"T_b7ed4_row19_col0\" class=\"data row19 col0\" >nan</td>\n",
       "      <td id=\"T_b7ed4_row19_col1\" class=\"data row19 col1\" >nan</td>\n",
       "      <td id=\"T_b7ed4_row19_col2\" class=\"data row19 col2\" >-0.687259</td>\n",
       "      <td id=\"T_b7ed4_row19_col3\" class=\"data row19 col3\" >-0.481463</td>\n",
       "      <td id=\"T_b7ed4_row19_col4\" class=\"data row19 col4\" >-0.220147</td>\n",
       "      <td id=\"T_b7ed4_row19_col5\" class=\"data row19 col5\" >-0.602695</td>\n",
       "      <td id=\"T_b7ed4_row19_col6\" class=\"data row19 col6\" >-0.310439</td>\n",
       "      <td id=\"T_b7ed4_row19_col7\" class=\"data row19 col7\" >-0.177951</td>\n",
       "      <td id=\"T_b7ed4_row19_col8\" class=\"data row19 col8\" >-0.973965</td>\n",
       "      <td id=\"T_b7ed4_row19_col9\" class=\"data row19 col9\" >0.549968</td>\n",
       "      <td id=\"T_b7ed4_row19_col10\" class=\"data row19 col10\" >-0.300596</td>\n",
       "      <td id=\"T_b7ed4_row19_col11\" class=\"data row19 col11\" >-0.165713</td>\n",
       "      <td id=\"T_b7ed4_row19_col12\" class=\"data row19 col12\" >-0.737066</td>\n",
       "      <td id=\"T_b7ed4_row19_col13\" class=\"data row19 col13\" >-0.543067</td>\n",
       "      <td id=\"T_b7ed4_row19_col14\" class=\"data row19 col14\" >-0.556669</td>\n",
       "      <td id=\"T_b7ed4_row19_col15\" class=\"data row19 col15\" >-0.002588</td>\n",
       "      <td id=\"T_b7ed4_row19_col16\" class=\"data row19 col16\" >-0.549724</td>\n",
       "      <td id=\"T_b7ed4_row19_col17\" class=\"data row19 col17\" >-0.016365</td>\n",
       "      <td id=\"T_b7ed4_row19_col18\" class=\"data row19 col18\" >-0.545091</td>\n",
       "      <td id=\"T_b7ed4_row19_col19\" class=\"data row19 col19\" >nan</td>\n",
       "    </tr>\n",
       "  </tbody>\n",
       "</table>\n"
      ],
      "text/plain": [
       "<pandas.io.formats.style.Styler at 0x2e10213d0>"
      ]
     },
     "execution_count": 374,
     "metadata": {},
     "output_type": "execute_result"
    }
   ],
   "source": [
    "data_corr = check_types(data)\n",
    "plot_corr(data_corr)"
   ]
  },
  {
   "cell_type": "markdown",
   "id": "dc62d15f",
   "metadata": {},
   "source": [
    "### For correlation computing I use non-parametric Kendall correlation that suits for continues and ordinary data and suits for finding non-linear correlations\n",
    "\n",
    "\n"
   ]
  },
  {
   "cell_type": "markdown",
   "id": "d938c558",
   "metadata": {},
   "source": [
    "- 'So \"is_finished_wizard\" is higly correlated with lang_id\n",
    "- 'Target churn is correlated with lang_id, device_type and is_finished_wizard, device_model'\n",
    "- 'Device_type and device_model have low correlation coff, but it's evident that Device_type is the generalizing upon device_model'\n",
    "- 'campaign_name' is higly correlated with 'media_source'\n",
    "\n",
    "As we have a lot of correlations and can't be sure in it, I propose not to use as a baseline linear model\n"
   ]
  },
  {
   "cell_type": "markdown",
   "id": "98cf9477",
   "metadata": {},
   "source": [
    "## We have 63 : 37 balance in target class, we have more active users then who decided to leave\n",
    "\n",
    "Almost all additional data from action table we have, provides data only if the user was active"
   ]
  },
  {
   "cell_type": "code",
   "execution_count": 384,
   "id": "16fe2e52",
   "metadata": {},
   "outputs": [
    {
     "data": {
      "text/plain": [
       "0.63"
      ]
     },
     "execution_count": 384,
     "metadata": {},
     "output_type": "execute_result"
    }
   ],
   "source": [
    "round(data.query('churn == 0').shape[0] / data.shape[0], 2)"
   ]
  },
  {
   "cell_type": "code",
   "execution_count": 375,
   "id": "15281a5e",
   "metadata": {},
   "outputs": [
    {
     "data": {
      "image/png": "[encoded data removed]",
      "text/plain": [
       "<Figure size 432x288 with 1 Axes>"
      ]
     },
     "metadata": {
      "needs_background": "light"
     },
     "output_type": "display_data"
    }
   ],
   "source": [
    "fig = plt.figure()\n",
    "ax = fig.add_axes([0,0,1,1])\n",
    "ax.bar(['Active', 'Churner'],[data.query('churn == 0').shape[0], data.query('churn == 1').shape[0]])\n",
    "plt.title('Checking the class balance')\n",
    "plt.xlabel(\"Conversion\")\n",
    "plt.ylabel(\"Count\")\n",
    "plt.show()"
   ]
  },
  {
   "cell_type": "markdown",
   "id": "1ae999ad",
   "metadata": {},
   "source": [
    "### Baseline model"
   ]
  },
  {
   "cell_type": "markdown",
   "id": "3a33e23f",
   "metadata": {},
   "source": [
    "- ### Let's train a Benchmark model on our data.  I propose to use Random Forest model. It can handle the data set containing categorical and continuous variables. After training we can compute  how much each feature contributes to decreasing the impurity. \n",
    "\n",
    "\n",
    "- ### Let's add one non-standard thing in preparing the data. I propose to add  a random column to the dataset. It has no predictive power over the dependent variable, so it should not be an important feature in methods that will be used for finding the most promising features."
   ]
  },
  {
   "cell_type": "code",
   "execution_count": 385,
   "id": "e6dd5d85",
   "metadata": {},
   "outputs": [
    {
     "name": "stderr",
     "output_type": "stream",
     "text": [
      "/var/folders/bm/fy2d0g0j55g433k7nbx5c6dc0000gn/T/ipykernel_20049/1836785790.py:1: SettingWithCopyWarning: \n",
      "A value is trying to be set on a copy of a slice from a DataFrame.\n",
      "Try using .loc[row_indexer,col_indexer] = value instead\n",
      "\n",
      "See the caveats in the documentation: https://pandas.pydata.org/pandas-docs/stable/user_guide/indexing.html#returning-a-view-versus-a-copy\n",
      "  data_corr['random'] = np.random.random(size = len(data_corr)).astype('float')\n"
     ]
    }
   ],
   "source": [
    "data_corr['random'] = np.random.random(size = len(data_corr)).astype('float')\n"
   ]
  },
  {
   "cell_type": "code",
   "execution_count": 386,
   "id": "0f35db42",
   "metadata": {},
   "outputs": [],
   "source": [
    "def baseline_with_metrics(df, n):\n",
    "    SEED = 42\n",
    "    mean_auc = 0.\n",
    "    oob_score = 0.\n",
    "    test_accuracy = 0.\n",
    "    for i in range(n):\n",
    "        clf = RandomForestClassifier(n_estimators = 100,\n",
    "                                     n_jobs = -1,\n",
    "                                     oob_score = True,\n",
    "                                     bootstrap = True,\n",
    "                                     class_weight = 'balanced', random_state = 42)\n",
    "\n",
    "        X, y = df.drop(columns = ['churn', 'retention']), df['churn']\n",
    "        X_train, X_test, y_train, y_test = train_test_split(X, y, test_size = .2, random_state = i*SEED)\n",
    "        clf.fit(X_train, y_train)\n",
    "\n",
    "        preds = clf.predict(X_test)\n",
    "        print(f'{i} split training')\n",
    "        print(f'precision on test {metrics.precision_score(y_test, preds)}')\n",
    "        print(f'recall on test {metrics.recall_score(y_test, preds)}')\n",
    "        print('-------------')\n",
    "        \n",
    "        mean_auc += metrics.roc_auc_score(y_test, preds)\n",
    "        oob_score += clf.oob_score_\n",
    "        test_accuracy += clf.score(X_test, y_test)\n",
    "\n",
    "\n",
    "        importances = clf.feature_importances_\n",
    "        std = np.std([tree.feature_importances_ for tree in clf.estimators_], axis=0)\n",
    "\n",
    "        forest_importances = pd.Series(importances, index=X.columns)\n",
    "        forest_importances = forest_importances.sort_values(ascending = False)\n",
    "        fig, ax = plt.subplots(figsize = (10, 4))\n",
    "        forest_importances.plot.bar(yerr=std, ax=ax)\n",
    "        ax.set_title(\"Feature importances\")\n",
    "        ax.set_ylabel(\"Mean decrease in impurity\")\n",
    "        fig.tight_layout()\n",
    "\n",
    "\n",
    "    print(f\"Mean test roc_auc {round(mean_auc/n, 3)}\")\n",
    "    print(f\"Mean out-of-bag accuracy {round(oob_score/n, 3)}\")\n",
    "    print(f\"Mean accuracy in test {round(test_accuracy/n, 3)}\")\n",
    "    return forest_importances\n",
    "    "
   ]
  },
  {
   "cell_type": "code",
   "execution_count": 387,
   "id": "c9adce2d",
   "metadata": {},
   "outputs": [
    {
     "name": "stdout",
     "output_type": "stream",
     "text": [
      "0 split training\n",
      "precision on test 0.9873335576599529\n",
      "recall on test 0.9954925481643039\n",
      "-------------\n",
      "1 split training\n",
      "precision on test 0.9870467568738864\n",
      "recall on test 0.994517490660327\n",
      "-------------\n",
      "2 split training\n",
      "precision on test 0.9871078642028362\n",
      "recall on test 0.9948508180943214\n",
      "-------------\n",
      "Mean test roc_auc 0.994\n",
      "Mean out-of-bag accuracy 0.993\n",
      "Mean accuracy in test 0.993\n"
     ]
    },
    {
     "data": {
      "image/png": "[encoded data removed]",
      "text/plain": [
       "<Figure size 720x288 with 1 Axes>"
      ]
     },
     "metadata": {
      "needs_background": "light"
     },
     "output_type": "display_data"
    },
    {
     "data": {
      "image/png": "[encoded data removed]",
      "text/plain": [
       "<Figure size 720x288 with 1 Axes>"
      ]
     },
     "metadata": {
      "needs_background": "light"
     },
     "output_type": "display_data"
    },
    {
     "data": {
      "image/png": "[encoded data removed]",
      "text/plain": [
       "<Figure size 720x288 with 1 Axes>"
      ]
     },
     "metadata": {
      "needs_background": "light"
     },
     "output_type": "display_data"
    }
   ],
   "source": [
    "forest_importances = baseline_with_metrics(data_corr.fillna(0), 3)"
   ]
  },
  {
   "cell_type": "markdown",
   "id": "0264703c",
   "metadata": {},
   "source": [
    "###  `The activity table mostly contains the data about users who are active with good retention`"
   ]
  },
  {
   "cell_type": "code",
   "execution_count": 390,
   "id": "b68981e9",
   "metadata": {},
   "outputs": [
    {
     "data": {
      "text/plain": [
       "0    227105\n",
       "1      2752\n",
       "Name: churn, dtype: int64"
      ]
     },
     "execution_count": 390,
     "metadata": {},
     "output_type": "execute_result"
    }
   ],
   "source": [
    "# The activity table \n",
    "data_corr[data_corr[['user_country', 'user_language', \\\n",
    "                    'favorite', 'region_name', 'entity_id', 'app_version']].\\\n",
    "                      notnull().all(axis = 1)]['churn'].value_counts()"
   ]
  },
  {
   "cell_type": "code",
   "execution_count": 391,
   "id": "b0a75664",
   "metadata": {},
   "outputs": [
    {
     "data": {
      "text/plain": [
       "0    219329\n",
       "Name: churn, dtype: int64"
      ]
     },
     "execution_count": 391,
     "metadata": {},
     "output_type": "execute_result"
    }
   ],
   "source": [
    "data_corr[data_corr.notnull().all(axis = 1)]['churn'].value_counts()"
   ]
  },
  {
   "cell_type": "markdown",
   "id": "581ffac2",
   "metadata": {},
   "source": [
    "### Let's do the prediction with only features that are available for all types of users (active and unactive) "
   ]
  },
  {
   "cell_type": "code",
   "execution_count": 392,
   "id": "897896d6",
   "metadata": {},
   "outputs": [
    {
     "name": "stdout",
     "output_type": "stream",
     "text": [
      "0 split training\n",
      "precision on test 0.9870423347837585\n",
      "recall on test 0.9949836423118866\n",
      "-------------\n",
      "1 split training\n",
      "precision on test 0.9865931738314158\n",
      "recall on test 0.9943476784241424\n",
      "-------------\n",
      "2 split training\n",
      "precision on test 0.9866141732283464\n",
      "recall on test 0.9949230028873918\n",
      "-------------\n",
      "Mean test roc_auc 0.993\n",
      "Mean out-of-bag accuracy 0.993\n",
      "Mean accuracy in test 0.993\n"
     ]
    },
    {
     "data": {
      "image/png": "[encoded data removed]",
      "text/plain": [
       "<Figure size 720x288 with 1 Axes>"
      ]
     },
     "metadata": {
      "needs_background": "light"
     },
     "output_type": "display_data"
    },
    {
     "data": {
      "image/png": "[encoded data removed]",
      "text/plain": [
       "<Figure size 720x288 with 1 Axes>"
      ]
     },
     "metadata": {
      "needs_background": "light"
     },
     "output_type": "display_data"
    },
    {
     "data": {
      "image/png": "[encoded data removed]",
      "text/plain": [
       "<Figure size 720x288 with 1 Axes>"
      ]
     },
     "metadata": {
      "needs_background": "light"
     },
     "output_type": "display_data"
    }
   ],
   "source": [
    "cols = ['user_country', 'user_language', \\\n",
    "                    'favorite', 'region_name', 'entity_id', 'app_version']\n",
    "df = data_corr.loc[:, ~data_corr.columns.isin(cols)].fillna(0).copy()\n",
    "forest_importances = baseline_with_metrics(df, 3)"
   ]
  },
  {
   "cell_type": "markdown",
   "id": "3760c81f",
   "metadata": {},
   "source": [
    "## And also I will propose to exclude all features with importance less then random feature has"
   ]
  },
  {
   "cell_type": "code",
   "execution_count": 393,
   "id": "de306e59",
   "metadata": {},
   "outputs": [],
   "source": [
    "val = forest_importances[forest_importances.index == 'random'].values[0]\n",
    "new_features = forest_importances[forest_importances.values > val].index"
   ]
  },
  {
   "cell_type": "code",
   "execution_count": 394,
   "id": "e7fb3564",
   "metadata": {},
   "outputs": [
    {
     "name": "stdout",
     "output_type": "stream",
     "text": [
      "0 split training\n",
      "precision on test 0.9865778246488663\n",
      "recall on test 0.9975039379619532\n",
      "-------------\n",
      "1 split training\n",
      "precision on test 0.9866801065591475\n",
      "recall on test 0.997331522002814\n",
      "-------------\n",
      "2 split training\n",
      "precision on test 0.9863127826707927\n",
      "recall on test 0.9969923002887392\n",
      "-------------\n",
      "Mean test roc_auc 0.995\n",
      "Mean out-of-bag accuracy 0.994\n",
      "Mean accuracy in test 0.994\n"
     ]
    },
    {
     "data": {
      "image/png": "[encoded data removed]",
      "text/plain": [
       "<Figure size 720x288 with 1 Axes>"
      ]
     },
     "metadata": {
      "needs_background": "light"
     },
     "output_type": "display_data"
    },
    {
     "data": {
      "image/png": "[encoded data removed]",
      "text/plain": [
       "<Figure size 720x288 with 1 Axes>"
      ]
     },
     "metadata": {
      "needs_background": "light"
     },
     "output_type": "display_data"
    },
    {
     "data": {
      "image/png": "[encoded data removed]",
      "text/plain": [
       "<Figure size 720x288 with 1 Axes>"
      ]
     },
     "metadata": {
      "needs_background": "light"
     },
     "output_type": "display_data"
    }
   ],
   "source": [
    "df = data_corr.loc[:, new_features.tolist() + ['churn', 'retention']].fillna(0).copy()\n",
    "new_forest_importances = baseline_with_metrics(df, 3)"
   ]
  },
  {
   "cell_type": "markdown",
   "id": "841b701e",
   "metadata": {},
   "source": [
    "- `The main assumptions we should consider that our baseling is RF clf, so we should assume that it's a biased approach and it has a tendency to inflate the importance of continuous features or high-cardinality categorical variables`\n",
    "- `Also we have a little unbalanced dataset and some sampling techniques could be applied but we have cery good metrics on test set, so I decided not to apply them. In case of using it, we should aim to use generalised. Need to do undersampling step multiple times and obtain many different undersampled datasets to train our model on to avoid bias `"
   ]
  },
  {
   "cell_type": "code",
   "execution_count": null,
   "id": "70eb2f9c",
   "metadata": {},
   "outputs": [],
   "source": []
  }
 ],
 "metadata": {
  "kernelspec": {
   "display_name": "mc",
   "language": "python",
   "name": "mc"
  },
  "language_info": {
   "codemirror_mode": {
    "name": "ipython",
    "version": 3
   },
   "file_extension": ".py",
   "mimetype": "text/x-python",
   "name": "python",
   "nbconvert_exporter": "python",
   "pygments_lexer": "ipython3",
   "version": "3.9.12"
  }
 },
 "nbformat": 4,
 "nbformat_minor": 5
}
